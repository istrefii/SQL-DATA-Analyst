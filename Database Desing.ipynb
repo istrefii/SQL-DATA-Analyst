{
 "cells": [
  {
   "cell_type": "markdown",
   "metadata": {},
   "source": [
    "# OLTP vs OLAP"
   ]
  },
  {
   "cell_type": "code",
   "execution_count": null,
   "metadata": {},
   "outputs": [],
   "source": []
  },
  {
   "cell_type": "markdown",
   "metadata": {},
   "source": [
    "# Storing Data "
   ]
  },
  {
   "cell_type": "code",
   "execution_count": null,
   "metadata": {},
   "outputs": [],
   "source": [
    "# Unstructured data: zip file of all text messages\n",
    "# Semi structured data: CSV of open government data\n",
    "# Structured data: relational database of customers purchases "
   ]
  },
  {
   "cell_type": "code",
   "execution_count": 1,
   "metadata": {},
   "outputs": [],
   "source": [
    "# ETL\n",
    "    #raw data is cleaned before being stored. This makes it accessible and ready to use.\n",
    "\n",
    "# When should you choose a data warehouse over a data lake?\n",
    "    # To create accessible and isolated data repositories for other analysts"
   ]
  },
  {
   "cell_type": "markdown",
   "metadata": {},
   "source": [
    "# Database design\n",
    " "
   ]
  },
  {
   "cell_type": "code",
   "execution_count": null,
   "metadata": {},
   "outputs": [],
   "source": [
    "# Conceptual Data Model\n",
    "\n",
    "# Logical Data Model\n",
    "\n",
    "# Physical Data Model"
   ]
  },
  {
   "cell_type": "code",
   "execution_count": null,
   "metadata": {},
   "outputs": [],
   "source": [
    "# Create a route dimension table\n",
    "CREATE TABLE route (\n",
    "\troute_id INTEGER PRIMARY KEY,\n",
    "    park_name VARCHAR(160) NOT NULL,\n",
    "    city_name VARCHAR(160) NOT NULL,\n",
    "    distance_km FLOAT NOT NULL,\n",
    "    route_name VARCHAR(160) NOT NULL\n",
    ");\n",
    "# Create a week dimension table\n",
    "CREATE TABLE week(\n",
    "\tweek_id INTEGER PRIMARY KEY,\n",
    "    week INTEGER NOT NULL,\n",
    "    month VARCHAR(160) NOT NULL,\n",
    "    year INTEGER NOT NULL\n",
    ");"
   ]
  },
  {
   "cell_type": "code",
   "execution_count": null,
   "metadata": {},
   "outputs": [],
   "source": [
    "SELECT \n",
    "\t# Get the total duration of all runs\n",
    "\tSUM(duration_mins)\n",
    "FROM \n",
    "\truns_fact\n",
    "# Get all the week_id's that are from July, 2019\n",
    "INNER JOIN week_dim ON runs_fact.week_id = week_dim.week_id\n",
    "WHERE month = 'July' and year = '2019';"
   ]
  },
  {
   "cell_type": "markdown",
   "metadata": {},
   "source": [
    "# Star and snowflake schema\n",
    " "
   ]
  },
  {
   "cell_type": "code",
   "execution_count": null,
   "metadata": {},
   "outputs": [],
   "source": [
    "# Add the book_id foreign key\n",
    "ALTER TABLE fact_booksales ADD CONSTRAINT sales_book\n",
    "    FOREIGN KEY (book_id) REFERENCES dim_book_star (book_id);\n",
    "    \n",
    "# Add the time_id foreign key\n",
    "ALTER TABLE fact_booksales ADD CONSTRAINT sales_time\n",
    "   FOREIGN KEY (time_id) REFERENCES dim_time_star (time_id);\n",
    "    \n",
    "# Add the store_id foreign key\n",
    "ALTER TABLE fact_booksales ADD CONSTRAINT sales_store\n",
    "   FOREIGN KEY (store_id) REFERENCES dim_store_star (store_id);"
   ]
  },
  {
   "cell_type": "code",
   "execution_count": null,
   "metadata": {},
   "outputs": [],
   "source": [
    "# Create a new table for dim_author with an author column\n",
    "CREATE TABLE dim_author (\n",
    "    author varchar(256)  NOT NULL\n",
    ");\n",
    "\n",
    "# Insert authors \n",
    "INSERT INTO dim_author\n",
    "SELECT DISTINCT author FROM dim_book_star;\n",
    "\n",
    "# Add a primary key \n",
    "ALTER TABLE dim_author ADD COLUMN author_id SERIAL PRIMARY KEY;\n",
    "\n",
    "# Output the new table\n",
    "SELECT * FROM dim_author;"
   ]
  },
  {
   "cell_type": "markdown",
   "metadata": {},
   "source": [
    "# Normalized and denormalized databases\n",
    " "
   ]
  },
  {
   "cell_type": "code",
   "execution_count": null,
   "metadata": {},
   "outputs": [],
   "source": [
    "# Output each state and their total sales_amount\n",
    "SELECT dim_store_star.state, sum(sales_amount)\n",
    "FROM fact_booksales\n",
    "\t# Join to get book information\n",
    "    JOIN dim_book_star on fact_booksales.book_id = dim_book_star.book_id\n",
    "\t# Join to get store information\n",
    "    JOIN dim_store_star on fact_booksales.store_id= dim_store_star.store_id\n",
    "# Get all books with in the novel genre\n",
    "WHERE  \n",
    "    genre= 'novel'\n",
    "# Group results by state\n",
    "GROUP BY\n",
    "    state"
   ]
  },
  {
   "cell_type": "code",
   "execution_count": null,
   "metadata": {},
   "outputs": [],
   "source": [
    "# Output each state and their total sales_amount\n",
    "SELECT dim_state_sf.state, sum(sales_amount)\n",
    "FROM fact_booksales\n",
    "    # Joins for genre\n",
    "    JOIN dim_book_sf on fact_booksales.book_id = dim_book_sf.book_id\n",
    "    JOIN dim_genre_sf on dim_book_sf.genre_id = dim_genre_sf.genre_id\n",
    "    # Joins for state\n",
    "    JOIN dim_store_sf on fact_booksales.store_id = dim_store_sf.store_id \n",
    "    JOIN dim_city_sf on dim_store_sf.city_id = dim_city_sf.city_id\n",
    "\tJOIN dim_state_sf on  dim_city_sf.state_id = dim_state_sf.state_id\n",
    "# Get all books with in the novel genre and group the results by state\n",
    "WHERE  \n",
    "    dim_genre_sf.genre = 'novel'\n",
    "GROUP BY\n",
    "    dim_state_sf.state;"
   ]
  },
  {
   "cell_type": "code",
   "execution_count": null,
   "metadata": {},
   "outputs": [],
   "source": [
    "# Add a continent_id column with default value of 1\n",
    "ALTER TABLE dim_country_sf\n",
    "ADD COLUMN continent_id int NOT NULL DEFAULT(1);\n",
    "\n",
    "# Add the foreign key constraint\n",
    "ALTER TABLE dim_country_sf ADD CONSTRAINT country_continent\n",
    "   FOREIGN KEY (continent_id) REFERENCES dim_continent_sf(continent_id);\n",
    "   \n",
    "# OUTput updated table\n",
    "SELECT * FROM dim_country_sf;"
   ]
  },
  {
   "cell_type": "markdown",
   "metadata": {},
   "source": [
    "# Normal Forms"
   ]
  },
  {
   "cell_type": "code",
   "execution_count": null,
   "metadata": {},
   "outputs": [],
   "source": [
    "1NF = can not have two values in same column"
   ]
  },
  {
   "cell_type": "code",
   "execution_count": null,
   "metadata": {},
   "outputs": [],
   "source": [
    "# Create a new table to hold the cars rented by customers\n",
    "CREATE TABLE cust_rentals (\n",
    "  customer_id INT NOT NULL,\n",
    "  car_id VARCHAR(128) NULL,\n",
    "  invoice_id VARCHAR(128) NULL\n",
    ");\n",
    "\n",
    "# Drop column from customers table to satisfy 1NF\n",
    "ALTER TABLE customers\n",
    "DROP COLUMN cars_rented,\n",
    "DROP COLUMN invoice_id;\n"
   ]
  },
  {
   "cell_type": "code",
   "execution_count": null,
   "metadata": {},
   "outputs": [],
   "source": [
    "# 2NF\n",
    "# Create a new table to satisfy 2NF\n",
    "CREATE TABLE cars (\n",
    "  car_id VARCHAR(256) NULL,\n",
    "  model VARCHAR(128),\n",
    "  manufacturer VARCHAR(128),\n",
    "  type_car VARCHAR(128),\n",
    "  condition VARCHAR(128),\n",
    "  color VARCHAR(128)\n",
    ");\n",
    "\n",
    "# Drop columns in customer_rentals to satisfy 2NF\n",
    "ALTER TABLE customer_rentals\n",
    "DROP COLUMN car_id,\n",
    "DROP COLUMN model, \n",
    "DROP COLUMN type_car,\n",
    "DROP COLUMN condition,\n",
    "DROP COLUMN color;"
   ]
  },
  {
   "cell_type": "code",
   "execution_count": null,
   "metadata": {},
   "outputs": [],
   "source": [
    "# 3NF\n",
    "\n",
    "# Create a new table to satisfy 3NF\n",
    "CREATE TABLE car_model(\n",
    "  model VARCHAR(128),\n",
    "  manufacturer VARCHAR(128),\n",
    "  type_car VARCHAR(128)\n",
    ");\n",
    "\n",
    "# Drop columns in rental_cars to satisfy 3NF\n",
    "ALTER TABLE rental_cars\n",
    "DROP COLUMN manufacturer, \n",
    "DROP COLUMN type_car;"
   ]
  },
  {
   "cell_type": "markdown",
   "metadata": {},
   "source": [
    "# Database views\n",
    " "
   ]
  },
  {
   "cell_type": "code",
   "execution_count": null,
   "metadata": {},
   "outputs": [],
   "source": [
    "# Get all non-systems views\n",
    "SELECT * FROM information_schema.views\n",
    "WHERE table_schema NOT IN ('pg_catalog', 'information_schema');"
   ]
  },
  {
   "cell_type": "code",
   "execution_count": null,
   "metadata": {},
   "outputs": [],
   "source": [
    "# Create a view for reviews with a score above 9\n",
    "CREATE VIEW high_scores AS\n",
    "SELECT * FROM REVIEWS\n",
    "WHERE score > 9;\n",
    "\n",
    "# Create a view for reviews with a score above 9\n",
    "CREATE VIEW high_scores AS\n",
    "SELECT * FROM REVIEWS\n",
    "WHERE score > 9;\n",
    "\n",
    "# Count the number of self-released works in high_scores\n",
    "SELECT COUNT(*) FROM high_scores\n",
    "INNER JOIN labels ON high_scores.reviewid = labels.reviewid\n",
    "WHERE label = 'self-released'"
   ]
  },
  {
   "cell_type": "markdown",
   "metadata": {},
   "source": [
    "# Managing views\n",
    " "
   ]
  },
  {
   "cell_type": "code",
   "execution_count": null,
   "metadata": {},
   "outputs": [],
   "source": [
    "# Create a view with the top artists in 2017\n",
    "CREATE VIEW top_artists_2017 AS\n",
    "# with only one column holding the artist field\n",
    "SELECT artist_title.artist FROM artist_title\n",
    "INNER JOIN top_15_2017\n",
    "ON artist_title.reviewid = top_15_2017.reviewid;\n",
    "\n",
    "# Output the new view\n",
    "SELECT * FROM top_artists_2017;\n",
    "\n",
    "# Which is the DROP command that would drop both top_15_2017 and top_artists_2017?\n",
    "DROP VIEW top_15_2017 CASCADE;"
   ]
  },
  {
   "cell_type": "code",
   "execution_count": null,
   "metadata": {},
   "outputs": [],
   "source": [
    "REVOKE UPDATE, INSERT on table_name FROM public\n",
    "GRANT UPDATE, INSERT on table_name to editor\n",
    "\n",
    "# Revoke everyone's update and insert privileges\n",
    "REVOKE UPDATE, INSERT ON long_reviews FROM PUBLIC; \n",
    "\n",
    "# Grant editor update and insert privileges \n",
    "GRANT UPDATE, INSERT ON long_reviews TO editor; "
   ]
  },
  {
   "cell_type": "code",
   "execution_count": null,
   "metadata": {},
   "outputs": [],
   "source": [
    "#` Redefine the artist_title view to have a label column\n",
    "CREATE OR REPLACE VIEW artist_title AS\n",
    "SELECT reviews.reviewid, reviews.title, artists.artist, labels.label\n",
    "FROM reviews\n",
    "INNER JOIN artists\n",
    "ON artists.reviewid = reviews.reviewid\n",
    "INNER JOIN labels\n",
    "ON artists.reviewid = labels.reviewid;\n",
    "\n",
    "SELECT * FROM artist_title;"
   ]
  },
  {
   "cell_type": "markdown",
   "metadata": {},
   "source": [
    "# Materialized views "
   ]
  },
  {
   "cell_type": "code",
   "execution_count": null,
   "metadata": {},
   "outputs": [],
   "source": [
    "# Non-Materialized\n",
    "# always returns up to date data, better on write-intestive database\n",
    "\n",
    "# Non-Materialized and Materialized Views\n",
    "# helps reduce overhead of writing queries and Can be used in data warehouse\n",
    "\n",
    "# Materialized views\n",
    "# consumes more storage, stores query result on disk"
   ]
  },
  {
   "cell_type": "code",
   "execution_count": null,
   "metadata": {},
   "outputs": [],
   "source": [
    "# Create a materialized view called genre_count \n",
    "CREATE MATERIALIZED VIEW genre_count AS\n",
    "SELECT genre, COUNT(*) \n",
    "FROM genres\n",
    "GROUP BY genre;\n",
    "\n",
    "INSERT INTO genres\n",
    "VALUES (50000, 'classical');\n",
    "\n",
    "# Refresh genre_count\n",
    "REFRESH MATERIALIZED VIEW genre_count;\n",
    "\n",
    "SELECT * FROM genre_count;"
   ]
  },
  {
   "cell_type": "markdown",
   "metadata": {},
   "source": [
    "# Data base roles and access control "
   ]
  },
  {
   "cell_type": "code",
   "execution_count": null,
   "metadata": {},
   "outputs": [],
   "source": [
    "# Create a data scientist role\n",
    "CREATE ROLE data_scientist;\n",
    "\n",
    "# Create a role for Marta\n",
    "CREATE ROLE Marta LOGIN;\n",
    "\n",
    "# Create an admin role\n",
    "CREATE ROLE admin WITH CREATEDB CREATEROLE;"
   ]
  },
  {
   "cell_type": "code",
   "execution_count": null,
   "metadata": {},
   "outputs": [],
   "source": [
    "# Grant data_scientist update and insert privileges\n",
    "GRANT UPDATE, INSERT ON long_reviews TO data_scientists;\n",
    "\n",
    "# Give Marta's role a password\n",
    "ALTER ROLE Martha WITH PASSWORD 's3cur3p@ssw0rd'"
   ]
  },
  {
   "cell_type": "code",
   "execution_count": null,
   "metadata": {},
   "outputs": [],
   "source": [
    "# Add Marta to the data scientist group\n",
    "GRANT data_scientist TO Marta\n",
    "\n",
    "#Remove Marta from data scientist\n",
    "REVOKE data_scientist FROM Marta"
   ]
  },
  {
   "cell_type": "markdown",
   "metadata": {},
   "source": [
    "# Table partitioning\n",
    " "
   ]
  },
  {
   "cell_type": "code",
   "execution_count": null,
   "metadata": {},
   "outputs": [],
   "source": [
    "# Create a new table called film_descriptions\n",
    "CREATE TABLE film_descriptions (\n",
    "    film_id INT,\n",
    "    long_description TEXT\n",
    ");\n",
    "\n",
    "# Copy the descriptions from the film table\n",
    "INSERT INTO film_descriptions\n",
    "SELECT film_id, long_description FROM film;\n",
    "    \n",
    "# Drop the descriptions from the original table\n",
    "ALTER TABLE film DROP COLUMN long_description;\n",
    "\n",
    "# Join to view the original table\n",
    "SELECT * FROM film_descriptions \n",
    "JOIN film USING(film_id);"
   ]
  },
  {
   "cell_type": "code",
   "execution_count": null,
   "metadata": {},
   "outputs": [],
   "source": [
    "# Create a new table called film_partitioned\n",
    "CREATE TABLE film_partitioned (\n",
    "  film_id INT,\n",
    "  title TEXT NOT NULL,\n",
    "  release_year TEXT\n",
    ")\n",
    "PARTITION BY LIST (release_year);\n",
    "\n",
    "# Create the partitions for 2019, 2018, and 2017\n",
    "CREATE TABLE film_2019\n",
    "\tPARTITION OF film_partitioned FOR VALUES IN ('2019');\n",
    "\n",
    "CREATE TABLE film_2018\n",
    "\tPARTITION OF film_partitioned FOR VALUES IN ('2018');\n",
    "\n",
    "CREATE TABLE film_2017\n",
    "\tPARTITION OF film_partitioned FOR VALUES IN ('2017');\n",
    "\n",
    "# Insert the data into film_partitioned\n",
    "INSERT INTO film_partitioned\n",
    "SELECT film_id, title, release_year FROM film;\n",
    "\n",
    "# View film_partitioned\n",
    "SELECT * FROM film_partitioned;"
   ]
  },
  {
   "cell_type": "markdown",
   "metadata": {},
   "source": [
    "# Data integration\n",
    " "
   ]
  },
  {
   "cell_type": "markdown",
   "metadata": {},
   "source": [
    "# Picking a Database Management System (DBMS)\n",
    "\n",
    " "
   ]
  },
  {
   "cell_type": "code",
   "execution_count": null,
   "metadata": {},
   "outputs": [],
   "source": []
  }
 ],
 "metadata": {
  "kernelspec": {
   "display_name": "Python 3",
   "language": "python",
   "name": "python3"
  },
  "language_info": {
   "codemirror_mode": {
    "name": "ipython",
    "version": 3
   },
   "file_extension": ".py",
   "mimetype": "text/x-python",
   "name": "python",
   "nbconvert_exporter": "python",
   "pygments_lexer": "ipython3",
   "version": "3.8.5"
  }
 },
 "nbformat": 4,
 "nbformat_minor": 4
}
