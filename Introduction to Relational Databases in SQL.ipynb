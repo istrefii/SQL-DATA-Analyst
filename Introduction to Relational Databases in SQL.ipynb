{
 "cells": [
  {
   "cell_type": "markdown",
   "metadata": {},
   "source": [
    "# Intro to Relational Database"
   ]
  },
  {
   "cell_type": "code",
   "execution_count": null,
   "metadata": {},
   "outputs": [],
   "source": [
    "# Query the right table in information_schema\n",
    "SELECT table_name \n",
    "FROM information_schema.tables\n",
    "#Specify the correct table_schema value\n",
    "WHERE table_schema = 'public';\n",
    "\n",
    "# Query the right table in information_schema to get columns\n",
    "SELECT column_name, data_type \n",
    "FROM information_schema.columns \n",
    "WHERE table_name = 'university_professors' AND table_schema = 'public';\n",
    "\n",
    "# Query the first five rows of our table\n",
    "SELECT * \n",
    "FROM university_professors \n",
    "LIMIT 5;"
   ]
  },
  {
   "cell_type": "markdown",
   "metadata": {},
   "source": [
    "# Tables: At the core of every database\n",
    " "
   ]
  },
  {
   "cell_type": "code",
   "execution_count": null,
   "metadata": {},
   "outputs": [],
   "source": [
    "# create two tables to split the table\n",
    "\n",
    "CREATE TABLE professors(\n",
    "    firstname text,\n",
    "    lastname text);\n",
    "SELECT * \n",
    "FROM professors\n",
    "\n",
    "# Create a table for the universities entity type\n",
    "CREATE TABLE universities (\n",
    "    university_shortname text,\n",
    "    university text,\n",
    "    university_city text\n",
    ");\n",
    "# Print the contents of this table\n",
    "SELECT * \n",
    "FROM universities"
   ]
  },
  {
   "cell_type": "code",
   "execution_count": null,
   "metadata": {},
   "outputs": [],
   "source": [
    "# adding column to table\n",
    "ALTER TABLE table_name\n",
    "ADD COLUMN column_name data_type;\n",
    "\n",
    "#Add the university_shortname column\n",
    "ALTER TABLE professors\n",
    "ADD COLUMN university_shortname text;\n",
    "\n",
    "#Print the contents of this table\n",
    "SELECT * \n",
    "FROM professors"
   ]
  },
  {
   "cell_type": "markdown",
   "metadata": {},
   "source": [
    "# Update your database as the structure changes\n",
    " "
   ]
  },
  {
   "cell_type": "code",
   "execution_count": null,
   "metadata": {},
   "outputs": [],
   "source": [
    "# insert data to columns\n",
    "INSERT INTO tablename(col1, col2, col3)\n",
    "VALUES('a1', 'a2', 'a3')\n",
    "\n",
    "#rename column\n",
    "ALTER TABLE tablename\n",
    "RENAME COLUMN old_col_name to new_col_name\n",
    "\n",
    "#drop column\n",
    "ALTER TABLE tablename\n",
    "DROP COLUMN col_name"
   ]
  },
  {
   "cell_type": "code",
   "execution_count": null,
   "metadata": {},
   "outputs": [],
   "source": [
    "# Rename the organisation column\n",
    "ALTER TABLE affiliations\n",
    "RENAME COLUMN organisation TO organization;\n",
    "\n",
    "# Delete the university_shortname column\n",
    "ALTER TABLE affiliations\n",
    "DROP COLUMN university_shortname;"
   ]
  },
  {
   "cell_type": "code",
   "execution_count": null,
   "metadata": {},
   "outputs": [],
   "source": [
    "#Migrate data with INSERT INTO SELECT DISTINCT\n",
    "SELECT DISTINCT column_name1, column_name2, ... \n",
    "FROM table_a;\n",
    "\n",
    "INSERT INTO table_b ...;"
   ]
  },
  {
   "cell_type": "code",
   "execution_count": null,
   "metadata": {},
   "outputs": [],
   "source": [
    "# Insert unique professors into the new table\n",
    "INSERT INTO professors \n",
    "SELECT DISTINCT firstname, lastname, university_shortname \n",
    "FROM university_professors;\n",
    "\n",
    "# Doublecheck the contents of professors\n",
    "SELECT * \n",
    "FROM professors;\n",
    "\n",
    "# Insert unique affiliations into the new table\n",
    "INSERT INTO affiliations\n",
    "SELECT DISTINCT firstname, lastname, function, organization\n",
    "FROM university_professors;\n",
    "\n",
    "# Doublecheck the contents of affiliations\n",
    "SELECT * \n",
    "FROM affiliations;"
   ]
  },
  {
   "cell_type": "code",
   "execution_count": null,
   "metadata": {},
   "outputs": [],
   "source": [
    "# Delete the university_professors table\n",
    "DROP TABLE university_professors;"
   ]
  },
  {
   "cell_type": "markdown",
   "metadata": {},
   "source": [
    "# Better data quality with constraints\n",
    " "
   ]
  },
  {
   "cell_type": "code",
   "execution_count": null,
   "metadata": {},
   "outputs": [],
   "source": [
    "CREATE TABLE transactions (\n",
    " transaction_date date, \n",
    " amount integer,\n",
    " fee text\n",
    ");\n",
    "\n",
    "# Let's add a record to the table\n",
    "INSERT INTO transactions (transaction_date, amount, fee) \n",
    "VALUES ('2018-09-24', 5454, '30');\n",
    "\n",
    "# Doublecheck the contents\n",
    "SELECT *\n",
    "FROM transactions;"
   ]
  },
  {
   "cell_type": "code",
   "execution_count": null,
   "metadata": {},
   "outputs": [],
   "source": [
    "# for data type issues use cast\n",
    "SELECT CAST(some_column AS integer)\n",
    "FROM table;\n",
    "\n",
    "# Calculate the net amount as amount + fee\n",
    "SELECT transaction_date, amount + CAST(fee AS integer) AS net_amount \n",
    "FROM transactions;"
   ]
  },
  {
   "cell_type": "markdown",
   "metadata": {},
   "source": [
    "# Working with data types"
   ]
  },
  {
   "cell_type": "code",
   "execution_count": null,
   "metadata": {},
   "outputs": [],
   "source": [
    "# changing data type\n",
    "ALTER TABLE tablename\n",
    "ALTER COLUMN colname\n",
    "TYPE integer\n",
    "USING round(colname);"
   ]
  },
  {
   "cell_type": "code",
   "execution_count": null,
   "metadata": {},
   "outputs": [],
   "source": [
    "# Specify the correct fixed-length character type\n",
    "ALTER TABLE professors\n",
    "ALTER COLUMN university_shortname\n",
    "TYPE char(3);\n",
    "\n",
    "# Change the type of firstname\n",
    "ALTER TABLE professors\n",
    "ALTER COLUMN firstname\n",
    "TYPE varchar(64);"
   ]
  },
  {
   "cell_type": "code",
   "execution_count": null,
   "metadata": {},
   "outputs": [],
   "source": [
    "# how to change it to a lower varchar\n",
    "ALTER TABLE table_name\n",
    "ALTER COLUMN column_name\n",
    "TYPE varchar(x)\n",
    "USING SUBSTRING(column_name FROM 1 FOR x)\n",
    "\n",
    "# Convert the values in firstname to a max. of 16 characters\n",
    "ALTER TABLE professors \n",
    "ALTER COLUMN firstname \n",
    "TYPE varchar(16)\n",
    "USING SUBSTRING(firstname FROM 1 FOR 16)"
   ]
  },
  {
   "cell_type": "markdown",
   "metadata": {},
   "source": [
    "# The not-null and unique constraints\n",
    " "
   ]
  },
  {
   "cell_type": "code",
   "execution_count": null,
   "metadata": {},
   "outputs": [],
   "source": [
    "# Disallow NULL values in lastname\n",
    "ALTER TABLE professors\n",
    "ALTER COLUMN lastname SET NOT NULL;\n",
    "\n",
    "# Disallow NULL values in firstname\n",
    "ALTER TABLE professors\n",
    "ALTER COLUMN firstname SET NOT NULL;"
   ]
  },
  {
   "cell_type": "code",
   "execution_count": null,
   "metadata": {},
   "outputs": [],
   "source": [
    "# make a column name unique\n",
    "CREATE TABLE table_name (\n",
    " column_name UNIQUE\n",
    ");\n",
    "\n",
    "# add unique constraint\n",
    "ALTER TABLE table_name\n",
    "ADD CONSTRAINT some_name UNIQUE(column_name);"
   ]
  },
  {
   "cell_type": "code",
   "execution_count": null,
   "metadata": {},
   "outputs": [],
   "source": [
    "# Make universities.university_shortname unique\n",
    "ALTER TABLE universities\n",
    "ADD CONSTRAINT university_shortname_unq UNIQUE(university_shortname);\n",
    "\n",
    "#Make organizations.organization unique\n",
    "ALTER TABLE organizations\n",
    "ADD CONSTRAINT organization_unq UNIQUE(organization)"
   ]
  },
  {
   "cell_type": "markdown",
   "metadata": {},
   "source": [
    "# Keys and superkeys\n",
    " "
   ]
  },
  {
   "cell_type": "code",
   "execution_count": null,
   "metadata": {},
   "outputs": [],
   "source": [
    "# Get to know SELECT COUNT DISTINCT\n",
    "# Count the number of rows in universities\n",
    "SELECT COUNT(DISTINCT(university_shortname, university, university_city)) \n",
    "FROM universities;\n",
    "\n",
    "# Count the number of distinct values in the university_city column\n",
    "SELECT COUNT(distinct(university_city)) \n",
    "FROM universities;"
   ]
  },
  {
   "cell_type": "markdown",
   "metadata": {},
   "source": [
    "HOW TO FIND SUPER KEYS\n",
    "\n",
    "1) Count the distinct records for all possible combinations of columns. If the resulting number x equals the number of all rows in the table for a combination, you have discovered a superkey.\n",
    "\n",
    "2) Then remove one column after another until you can no longer remove columns without seeing the number x decrease. If that is the case, you have discovered a (candidate) key.\n",
    "\n",
    "\n",
    "\n",
    "\n"
   ]
  },
  {
   "cell_type": "code",
   "execution_count": null,
   "metadata": {},
   "outputs": [],
   "source": [
    "# Try out different combinations\n",
    "SELECT COUNT(DISTINCT(lastname, firstname)) \n",
    "FROM professors;\n",
    "#only combination that uniquely identifies professors is {firstname, lastname}. \n",
    "#{firstname, lastname, university_shortname} is a superkey, \n",
    "# and all other combinations give duplicate values. \n"
   ]
  },
  {
   "cell_type": "markdown",
   "metadata": {},
   "source": [
    "# Primary keys\n",
    " "
   ]
  },
  {
   "cell_type": "code",
   "execution_count": null,
   "metadata": {},
   "outputs": [],
   "source": [
    "# primary key for car database is license plate\n",
    "\n",
    "#adding a primary key to your table\n",
    "ALTER TABLE table_name\n",
    "ADD CONSTRAINT some_name PRIMARY KEY (column_name)"
   ]
  },
  {
   "cell_type": "code",
   "execution_count": null,
   "metadata": {},
   "outputs": [],
   "source": [
    "# Rename the university_shortname column to id\n",
    "ALTER TABLE universities\n",
    "RENAME COLUMN university_shortname TO id;\n",
    "\n",
    "# Make id a primary key\n",
    "ALTER TABLE universities\n",
    "ADD CONSTRAINT university_pk PRIMARY KEY (id);\n",
    "\n",
    "ALTER TABLE professors\n",
    "RENAME COLUMN lastname to id;\n",
    "\n",
    "ALTER TABLE professors\n",
    "ADD CONSTRAINT lastname_pk PRIMARY KEY(id)"
   ]
  },
  {
   "cell_type": "markdown",
   "metadata": {},
   "source": [
    "# Surrogate keys\n"
   ]
  },
  {
   "cell_type": "code",
   "execution_count": null,
   "metadata": {},
   "outputs": [],
   "source": [
    "# since we dont have a primary key for professors table columns (firstname, lastname, university_shortname)\n",
    "# we make new column firstname+lastname as the primary key\n",
    "\n",
    "# Add the new column to the table\n",
    "ALTER TABLE professors \n",
    "ADD COLUMN id serial;\n",
    "\n",
    "# Make id a primary key\n",
    "ALTER TABLE professors \n",
    "ADD CONSTRAINT professors_pkey PRIMARY KEY (id);\n",
    "\n",
    "# Have a look at the first 10 rows of professors\n",
    "SELECT *\n",
    "FROM professors\n",
    "LIMIT(10);"
   ]
  },
  {
   "cell_type": "code",
   "execution_count": null,
   "metadata": {},
   "outputs": [],
   "source": [
    "# adding a surrogate key to an existing table\n",
    "CREATE TABLE cars (\n",
    " make varchar(64) NOT NULL,\n",
    " model varchar(64) NOT NULL,\n",
    " mpg integer NOT NULL\n",
    ")\n",
    "\n",
    "# Count the number of distinct rows with columns make, model\n",
    "SELECT COUNT(DISTINCT(make, model)) \n",
    "FROM cars;\n",
    "\n",
    "# Add the id column. Add column\n",
    "ALTER TABLE cars\n",
    "ADD COLUMN id varchar(128);\n",
    "\n",
    "# Update id with make + model. Make the column make +modle\n",
    "UPDATE cars\n",
    "SET id = CONCAT(make, model);\n",
    "\n",
    "# Make id a primary key. Make the column a primary key\n",
    "ALTER TABLE cars\n",
    "ADD CONSTRAINT id_pk primary key(id);\n",
    "\n",
    "# Have a look at the table\n",
    "SELECT * FROM cars;"
   ]
  },
  {
   "cell_type": "code",
   "execution_count": null,
   "metadata": {},
   "outputs": [],
   "source": [
    "#  Create the table\n",
    "CREATE TABLE students (\n",
    "  last_name varchar(128) NOT NULL,\n",
    "  ssn integer PRIMARY KEY,\n",
    "  phone_no char(12)\n",
    ");"
   ]
  },
  {
   "cell_type": "markdown",
   "metadata": {},
   "source": [
    "# Model 1:N relationships with foreign keys\n",
    " "
   ]
  },
  {
   "cell_type": "code",
   "execution_count": null,
   "metadata": {},
   "outputs": [],
   "source": [
    "# reference a table with foreign key\n",
    "ALTER TABLE a \n",
    "ADD CONSTRAINT a_fkey FOREIGN KEY (b_id) REFERENCES b (id);\n",
    "\n",
    "# Rename the university_shortname column\n",
    "ALTER TABLE professors\n",
    "RENAME COLUMN university_shortname TO university_id;\n",
    "\n",
    "# Add a foreign key on professors referencing universities\n",
    "ALTER TABLE professors \n",
    "ADD CONSTRAINT professors_fkey FOREIGN KEY (university_id) REFERENCES universities (id);"
   ]
  },
  {
   "cell_type": "code",
   "execution_count": null,
   "metadata": {},
   "outputs": [],
   "source": [
    "# Try to insert a new professor\n",
    "INSERT INTO professors (firstname, lastname, university_id)\n",
    "VALUES ('Albert', 'Einstein', 'UZH');"
   ]
  },
  {
   "cell_type": "code",
   "execution_count": null,
   "metadata": {},
   "outputs": [],
   "source": [
    "# joining tables\n",
    "SELECT ...\n",
    "FROM table_a\n",
    "JOIN table_b\n",
    "ON ...\n",
    "WHERE ..."
   ]
  },
  {
   "cell_type": "code",
   "execution_count": null,
   "metadata": {},
   "outputs": [],
   "source": [
    "# Select all professors working for universities in the city of Zurich\n",
    "SELECT professors.lastname, universities.id, universities.university_city\n",
    "FROM professors \n",
    "JOIN universities\n",
    "ON professors.university_id = universities.id\n",
    "WHERE universities.university_city = 'Zurich';"
   ]
  },
  {
   "cell_type": "markdown",
   "metadata": {},
   "source": [
    "# Model more complex relationships\n",
    " "
   ]
  },
  {
   "cell_type": "code",
   "execution_count": null,
   "metadata": {},
   "outputs": [],
   "source": [
    "# Add a professor_id column\n",
    "ALTER TABLE affiliations\n",
    "ADD COLUMN professor_id integer REFERENCES professors (id);\n",
    "\n",
    "# Rename the organization column to organization_id\n",
    "ALTER TABLE affiliations\n",
    "RENAME organization TO organization_id;\n",
    "\n",
    "# Add a foreign key on organization_id\n",
    "ALTER TABLE affiliations\n",
    "ADD CONSTRAINT affiliations_organization_fkey foreign KEY (organization_id) REFERENCES organizations (id);"
   ]
  },
  {
   "cell_type": "code",
   "execution_count": null,
   "metadata": {},
   "outputs": [],
   "source": [
    "# how to update columns in table\n",
    "UPDATE table_a\n",
    "SET column_to_update = table_b.column_to_update_from\n",
    "FROM table_b\n",
    "WHERE condition1 AND condition2 AND ...;"
   ]
  },
  {
   "cell_type": "code",
   "execution_count": null,
   "metadata": {},
   "outputs": [],
   "source": [
    "# Update professor_id to professors.id where firstname, lastname correspond to rows in professors\n",
    "UPDATE affiliations\n",
    "SET professor_id = professors.id\n",
    "FROM professors\n",
    "WHERE affiliations.firstname = professors.firstname AND affiliations.lastname = professors.lastname;\n",
    "\n",
    "# Have a look at the 10 first rows of affiliations again\n",
    "SELECT * \n",
    "FROM affiliations\n",
    "LIMIT(10);"
   ]
  },
  {
   "cell_type": "code",
   "execution_count": null,
   "metadata": {},
   "outputs": [],
   "source": [
    "# Drop the firstname column\n",
    "ALTER TABLE affiliations\n",
    "DROP COLUMN firstname;\n",
    "\n",
    "# Drop the lastname column\n",
    "ALTER TABLE affiliations\n",
    "DROP COLUMN lastname;"
   ]
  },
  {
   "cell_type": "markdown",
   "metadata": {},
   "source": [
    "# Referential integrity\n",
    " "
   ]
  },
  {
   "cell_type": "code",
   "execution_count": null,
   "metadata": {},
   "outputs": [],
   "source": [
    "# keys\n",
    "professors.university_id to universities.id\n",
    "affiliations.organization_id to organizations.id\n",
    "affiliations.professor_id to professors.id"
   ]
  },
  {
   "cell_type": "code",
   "execution_count": null,
   "metadata": {},
   "outputs": [],
   "source": [
    "# Identify the correct constraint name\n",
    "SELECT constraint_name, table_name, constraint_type\n",
    "FROM information_schema.table_constraints\n",
    "WHERE constraint_type = 'FOREIGN KEY';\n",
    "\n",
    "# Drop the right foreign key constraint\n",
    "ALTER TABLE affiliations\n",
    "DROP CONSTRAINT affiliations_organization_id_fkey;\n",
    "\n",
    "# Add a new foreign key constraint from affiliations to organizations which cascades deletion\n",
    "ALTER TABLE affiliations\n",
    "ADD CONSTRAINT affiliations_organization_id_fkey FOREIGN KEY (organization_id) REFERENCES organizations (id) ON DELETE CASCADE;\n",
    "\n",
    "# Delete an organization \n",
    "DELETE FROM organizations \n",
    "WHERE id = 'CUREM';\n",
    "\n",
    "# Check that no more affiliations with this organization exist\n",
    "SELECT * FROM affiliations\n",
    "WHERE organization_id = 'CUREM';"
   ]
  },
  {
   "cell_type": "markdown",
   "metadata": {},
   "source": [
    "# Roundup\n",
    " "
   ]
  },
  {
   "cell_type": "code",
   "execution_count": null,
   "metadata": {},
   "outputs": [],
   "source": [
    "SELECT table_a.column1, table_a.column2, table_b.column1, ... \n",
    "FROM table_a\n",
    "JOIN table_b \n",
    "ON table_a.column = table_b.column"
   ]
  },
  {
   "cell_type": "code",
   "execution_count": null,
   "metadata": {},
   "outputs": [],
   "source": [
    "#  Count the total number of affiliations per university\n",
    "SELECT COUNT(*), professors.university_id \n",
    "FROM affiliations\n",
    "JOIN professors\n",
    "ON affiliations.professor_id = professors.id\n",
    "# Group by the university ids of professors\n",
    "GROUP BY professors.university_id \n",
    "ORDER By count DESC;"
   ]
  },
  {
   "cell_type": "code",
   "execution_count": null,
   "metadata": {},
   "outputs": [],
   "source": [
    "# Join all tables\n",
    "SELECT *\n",
    "FROM affiliations\n",
    "JOIN professors\n",
    "ON affiliations.professor_id = professors.id\n",
    "JOIN organizations\n",
    "ON affiliations.organization_id = organizations.id\n",
    "JOIN universities\n",
    "ON professors.university_id = universities.id;"
   ]
  },
  {
   "cell_type": "code",
   "execution_count": null,
   "metadata": {},
   "outputs": [],
   "source": [
    "# Filter the table and sort it\n",
    "SELECT COUNT(*), organizations.organization_sector, \n",
    "professors.id, universities.university_city\n",
    "FROM affiliations\n",
    "JOIN professors\n",
    "ON affiliations.professor_id = professors.id\n",
    "JOIN organizations\n",
    "ON affiliations.organization_id = organizations.id\n",
    "JOIN universities\n",
    "ON professors.university_id = universities.id\n",
    "WHERE organizations.organization_sector = 'Media & communication'\n",
    "GROUP BY organizations.organization_sector, \n",
    "professors.id, universities.university_city\n",
    "ORDER BY count DESC;"
   ]
  }
 ],
 "metadata": {
  "kernelspec": {
   "display_name": "Python 3",
   "language": "python",
   "name": "python3"
  },
  "language_info": {
   "codemirror_mode": {
    "name": "ipython",
    "version": 3
   },
   "file_extension": ".py",
   "mimetype": "text/x-python",
   "name": "python",
   "nbconvert_exporter": "python",
   "pygments_lexer": "ipython3",
   "version": "3.8.5"
  }
 },
 "nbformat": 4,
 "nbformat_minor": 4
}
