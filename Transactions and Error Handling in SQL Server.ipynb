{
 "cells": [
  {
   "cell_type": "markdown",
   "metadata": {},
   "source": [
    "# Starting with error handling\n",
    " "
   ]
  },
  {
   "cell_type": "code",
   "execution_count": null,
   "metadata": {},
   "outputs": [],
   "source": [
    "BEGIN TRY\n",
    "    INSERT INTO products (product_name, stock, price)\n",
    "        VALUES ('Trek Powerfly 5 - 2018', 10, 3499.99);\n",
    "    SELECT 'Product inserted correctly!';\n",
    "END TRY\n",
    "\n",
    "    BEGIN CATCH\n",
    "        SELECT 'An error occurred! You are in the CATCH block';   \n",
    "    END CATCH"
   ]
  },
  {
   "cell_type": "code",
   "execution_count": null,
   "metadata": {},
   "outputs": [],
   "source": [
    "# Set up the TRY block\n",
    "BEGIN TRY\n",
    "\t# Add the constraint\n",
    "\tALTER TABLE products\n",
    "\t\tADD CONSTRAINT CHK_Stock CHECK (stock >= 0);\n",
    "END TRY\n",
    "# Set up the CATCH block\n",
    "BEGIN CATCH\n",
    "\tSELECT 'An error occurred!';\n",
    "END CATCH"
   ]
  },
  {
   "cell_type": "code",
   "execution_count": null,
   "metadata": {},
   "outputs": [],
   "source": [
    "# Set up the first TRY block\n",
    "BEGIN TRY\n",
    "\tINSERT INTO buyers (first_name, last_name, email, phone)\n",
    "\t\tVALUES ('Peter', 'Thompson', 'peterthomson@mail.com', '555000100');\n",
    "END TRY\n",
    "# Set up the first CATCH block\n",
    "BEGIN CATCH\n",
    "\tSELECT 'An error occurred inserting the buyer! You are in the first CATCH block';\n",
    "    # Set up the nested TRY block\n",
    "    BEGIN TRY\n",
    "    \tINSERT INTO errors \n",
    "        \tVALUES ('Error inserting a buyer');\n",
    "        SELECT 'Error inserted correctly!';\n",
    "\tEND TRY\n",
    "    # Set up the nested CATCH block\n",
    "    BEGIN CATCH\n",
    "    \tSELECT 'An error occurred inserting the error! You are in the nested CATCH block';\n",
    "    END CATCH \n",
    "END CATCH"
   ]
  },
  {
   "cell_type": "markdown",
   "metadata": {},
   "source": [
    "# Error anatomy and uncatchable errors\n",
    " "
   ]
  },
  {
   "cell_type": "code",
   "execution_count": null,
   "metadata": {},
   "outputs": [],
   "source": [
    "Msg 2627, Level 14, State 1, Line 1\n",
    "Violation of UNIQUE KEY constraint 'unique_name'. \n",
    "Cannot insert duplicate key in object 'dbo.products'. \n",
    "The duplicate key value is (Trek Powerfly 5 - 2018).\n",
    "\n",
    "# What are the different parts of the error you get, from left to right?\n",
    "# Error number, severity level, state, line, and message text."
   ]
  },
  {
   "cell_type": "code",
   "execution_count": null,
   "metadata": {},
   "outputs": [],
   "source": [
    "BEGIN TRY\n",
    "\tINSERT INTO products (product_name, stock, price)\n",
    "\t\tVALUES ('Sun Bicycles ElectroLite - 2017', 10, 1559.99);\n",
    "END TRY\n",
    "BEGIN CATCH\n",
    "\tSELECT 'An error occurred inserting the product!';\n",
    "    BEGIN TRY\n",
    "    \tINSERT INTO errors\n",
    "        \tVALUES ('Error inserting a product');\n",
    "    END TRY    \n",
    "    BEGIN CATCH\n",
    "    \tSELECT 'An error occurred inserting the error!';\n",
    "    END CATCH    \n",
    "END CATCH"
   ]
  },
  {
   "cell_type": "markdown",
   "metadata": {},
   "source": [
    "# Giving information about errors\n",
    " "
   ]
  },
  {
   "cell_type": "code",
   "execution_count": null,
   "metadata": {},
   "outputs": [],
   "source": [
    "# Which of the following is true about the functions: \n",
    "#ERROR_NUMBER(), ERROR_SEVERITY(), ERROR_STATE(), ERROR_PROCEDURE(), ERROR_LINE(), and ERROR_MESSAGE()?\n",
    "\n",
    "# These functions must be placed within the CATCH block. \n",
    "# If an error occurs within the TRY block, they return information about the error."
   ]
  },
  {
   "cell_type": "code",
   "execution_count": null,
   "metadata": {},
   "outputs": [],
   "source": [
    "# Set up the TRY block\n",
    "BEGIN TRY  \t\n",
    "\tSELECT 'Total: ' + SUM(price * quantity) AS total\n",
    "\tFROM orders  \n",
    "END TRY\n",
    "# Set up the CATCH block\n",
    "BEGIN CATCH  \n",
    "\t# Show error information.\n",
    "\tSELECT  error_number() AS number,  \n",
    "        \terror_severity() AS severity_level,  \n",
    "        \terror_state() AS state,\n",
    "        \terror_line() AS line,  \n",
    "        \terror_message() AS message; \t\n",
    "END CATCH "
   ]
  },
  {
   "cell_type": "code",
   "execution_count": null,
   "metadata": {},
   "outputs": [],
   "source": [
    "BEGIN TRY\n",
    "    INSERT INTO products (product_name, stock, price) \n",
    "    VALUES\t('Trek Powerfly 5 - 2018', 2, 3499.99),   \t\t\n",
    "    \t\t('New Power K- 2018', 3, 1999.99)\t\t\n",
    "END TRY\n",
    "# Set up the outer CATCH block\n",
    "BEGIN CATCH\n",
    "\tSELECT 'An error occurred inserting the product!';\n",
    "    # Set up the inner TRY block\n",
    "    BEGIN TRY\n",
    "    \t# Insert the error\n",
    "    \tINSERT INTO error \n",
    "        \tVALUES ('Error inserting a product');\n",
    "    END TRY    \n",
    "    # Set up the inner CATCH block\n",
    "    BEGIN CATCH\n",
    "    \t# Show number and message error\n",
    "    \tSELECT \n",
    "        \terror_line() AS line,\t   \n",
    "\t\t\terror_message() AS message; \n",
    "    END CATCH    \n",
    "END CATCH"
   ]
  },
  {
   "cell_type": "markdown",
   "metadata": {},
   "source": [
    "# RAISERROR\n",
    " "
   ]
  },
  {
   "cell_type": "code",
   "execution_count": null,
   "metadata": {},
   "outputs": [],
   "source": [
    "RAISERROR('You cannot apply a 50%% discount on %s number %d', 6, 1, 'product', 5);\n",
    "# You cannot apply a 50% discount on product number 5"
   ]
  },
  {
   "cell_type": "code",
   "execution_count": null,
   "metadata": {},
   "outputs": [],
   "source": [
    "DECLARE @product_id INT = 5;\n",
    "\n",
    "IF NOT EXISTS (SELECT * FROM products WHERE product_id = @product_id)\n",
    "\t# Invoke RAISERROR with parameters\n",
    "\tRAISERROR('No product with id %d.', 11, 1, @product_id);\n",
    "ELSE \n",
    "\tSELECT * FROM products WHERE product_id = @product_id;\n",
    "\n",
    "    \n",
    "# Change the value\n",
    "DECLARE @product_id INT = 50;\n",
    "\n",
    "IF NOT EXISTS (SELECT * FROM products WHERE product_id = @product_id)\n",
    "\tRAISERROR('No product with id %d.', 11, 1, @product_id);\n",
    "ELSE \n",
    "\tSELECT * FROM products WHERE product_id = @product_id;"
   ]
  },
  {
   "cell_type": "code",
   "execution_count": null,
   "metadata": {},
   "outputs": [],
   "source": [
    "BEGIN TRY\n",
    "\t# Change the value\n",
    "    DECLARE @product_id INT = 5;\t\n",
    "    IF NOT EXISTS (SELECT * FROM products WHERE product_id = @product_id)\n",
    "        RAISERROR('No product with id %d.', 11, 1, @product_id);\n",
    "    ELSE \n",
    "        SELECT * FROM products WHERE product_id = @product_id;\n",
    "END TRY\n",
    "BEGIN CATCH\n",
    "\tSELECT ERROR_MESSAGE();\n",
    "END CATCH\n",
    "\n",
    "BEGIN TRY\n",
    "\t# Change the value\n",
    "    DECLARE @product_id INT = 50;\t\n",
    "    IF NOT EXISTS (SELECT * FROM products WHERE product_id = @product_id)\n",
    "        RAISERROR('No product with id %d.', 11, 1, @product_id);\n",
    "    ELSE \n",
    "        SELECT * FROM products WHERE product_id = @product_id;\n",
    "END TRY\n",
    "BEGIN CATCH\n",
    "\tSELECT ERROR_MESSAGE();\n",
    "END CATCH"
   ]
  },
  {
   "cell_type": "markdown",
   "metadata": {},
   "source": [
    "# THROW "
   ]
  },
  {
   "cell_type": "code",
   "execution_count": null,
   "metadata": {},
   "outputs": [],
   "source": [
    "# The THROW statement without parameters should be placed within a CATCH block.\n",
    "CREATE PROCEDURE insert_product\n",
    "  @product_name VARCHAR(50),\n",
    "  @stock INT,\n",
    "  @price DECIMAL\n",
    "\n",
    "AS\n",
    "\n",
    "BEGIN TRY\n",
    "\tINSERT INTO products (product_name, stock, price)\n",
    "\t\tVALUES (@product_name, @stock, @price);\n",
    "END TRY\n",
    "# Set up the CATCH block\n",
    "BEGIN CATCH\n",
    "\t# Insert the error and end the statement with a semicolon\n",
    "    INSERT INTO errors VALUES ('Error inserting a product');\n",
    "    # Re-throw the error\n",
    "\tTHROW; \n",
    "END CATCH"
   ]
  },
  {
   "cell_type": "code",
   "execution_count": null,
   "metadata": {},
   "outputs": [],
   "source": [
    "BEGIN TRY\n",
    "\t# Execute the stored procedure\n",
    "\tEXEC insert_product \n",
    "    \t# Set the values for the parameters\n",
    "    \t@product_name = 'Trek Conduit+',\n",
    "        @stock = 3,\n",
    "        @price = 499.99;\n",
    "END TRY\n",
    "# Set up the CATCH block\n",
    "BEGIN CATCH\n",
    "\t# Select the error message\n",
    "\tSELECT ERROR_MESSAGE();\n",
    "END CATCH"
   ]
  },
  {
   "cell_type": "code",
   "execution_count": null,
   "metadata": {},
   "outputs": [],
   "source": [
    "DECLARE @staff_id INT = 4;\n",
    "\n",
    "IF NOT EXISTS (SELECT * FROM staff WHERE staff_id = @staff_id)\n",
    "   \t# Invoke the THROW statement with parameters\n",
    "\tTHROW 50001, 'No staff member with such id', 1;\n",
    "ELSE\n",
    "   \tSELECT * FROM staff WHERE staff_id = @staff_id"
   ]
  },
  {
   "cell_type": "markdown",
   "metadata": {},
   "source": [
    "# Customizing error messages in the THROW statement\n",
    " "
   ]
  },
  {
   "cell_type": "code",
   "execution_count": null,
   "metadata": {},
   "outputs": [],
   "source": [
    "DECLARE @first_name NVARCHAR(20) = 'Edward';\n",
    "\n",
    "# Concat the message\n",
    "DECLARE @my_message NVARCHAR(500) =\n",
    "\tCONCAT('There is no staff member with ', @first_name, ' as the first name.');\n",
    "\n",
    "IF NOT EXISTS (SELECT * FROM staff WHERE first_name = @first_name)\n",
    "\t-- Throw the error\n",
    "\tTHROW 50000, @my_message, 1;"
   ]
  },
  {
   "cell_type": "code",
   "execution_count": null,
   "metadata": {},
   "outputs": [],
   "source": [
    "DECLARE @product_name AS NVARCHAR(50) = 'Trek CrossRip+ - 2018';\n",
    "# Set the number of sold bikes\n",
    "DECLARE @sold_bikes AS INT = 10;\n",
    "DECLARE @current_stock INT;\n",
    "\n",
    "SELECT @current_stock = stock FROM products WHERE product_name = @product_name;\n",
    "\n",
    "DECLARE @my_message NVARCHAR(500) =\n",
    "\t# Customize the error message\n",
    "\tFORMATMESSAGE('There are not enough %s bikes. You have %d in stock.', @product_name, @current_stock);\n",
    "\n",
    "IF (@current_stock - @sold_bikes < 0)\n",
    "\t# Throw the error\n",
    "\tTHROW 50000, @my_message, 1;"
   ]
  },
  {
   "cell_type": "code",
   "execution_count": null,
   "metadata": {},
   "outputs": [],
   "source": [
    "# Pass the variables to the stored procedure\n",
    "EXEC sp_addmessage @msgnum = 50002, @severity = 16, @msgtext = 'There are not enough %s bikes. You only have %d in stock.', @lang = N'us_english';"
   ]
  },
  {
   "cell_type": "code",
   "execution_count": null,
   "metadata": {},
   "outputs": [],
   "source": [
    "EXEC sp_addmessage @msgnum = 50002, @severity = 16, @msgtext = 'There are not enough %s bikes. You only have %d in stock.', @lang = N'us_english';\n",
    "DECLARE @product_name AS NVARCHAR(50) = 'Trek CrossRip+ - 2018';\n",
    "DECLARE @sold_bikes AS INT = 10;\n",
    "DECLARE @current_stock INT;\n",
    "\n",
    "SELECT @current_stock = stock FROM products WHERE product_name = @product_name;\n",
    "\n",
    "DECLARE @my_message NVARCHAR(500) =\n",
    "\t# Prepare the error message\n",
    "\tFORMATMESSAGE(50002, @product_name, @current_stock);\n",
    "\n",
    "IF (@current_stock - @sold_bikes < 0)\n",
    "\t# Throw the error\n",
    "\tTHROW 50000, @my_message, 1;"
   ]
  },
  {
   "cell_type": "code",
   "execution_count": null,
   "metadata": {},
   "outputs": [],
   "source": [
    "EXEC sp_addmessage @msgnum = 50002, @severity = 16, @msgtext = 'There are not enough %s bikes. You only have %d in stock.', @lang = N'us_english';\n",
    "DECLARE @product_name AS NVARCHAR(50) = 'Trek CrossRip+ - 2018';\n",
    "\n",
    "# Change the value\n",
    "DECLARE @sold_bikes AS INT = 10;\n",
    "DECLARE @current_stock INT;\n",
    "\n",
    "SELECT @current_stock = stock FROM products WHERE product_name = @product_name;\n",
    "\n",
    "DECLARE @my_message NVARCHAR(500) =\n",
    "\tFORMATMESSAGE(50002, @product_name, @current_stock);\n",
    "\n",
    "IF (@current_stock - @sold_bikes < 0)\n",
    "\tTHROW 50000, @my_message, 1;"
   ]
  },
  {
   "cell_type": "markdown",
   "metadata": {},
   "source": [
    "# Transactions "
   ]
  },
  {
   "cell_type": "code",
   "execution_count": null,
   "metadata": {},
   "outputs": [],
   "source": [
    "# The BEGIN TRAN|TRANSACTION statement marks the starting point of a transaction.\n",
    "# The COMMIT TRAN|TRANSACTION statement marks the end of a successful transaction.\n",
    "# The ROLLBACK TRAN|TRANSACTION statement reverts a transaction to the beginning or a savepoint inside the transaction."
   ]
  },
  {
   "cell_type": "code",
   "execution_count": null,
   "metadata": {},
   "outputs": [],
   "source": [
    "BEGIN TRY  \n",
    "\tBEGIN TRAN; \n",
    "\t\tUPDATE accounts SET current_balance = current_balance - 100 WHERE account_id = 1;\n",
    "\t\tINSERT INTO transactions VALUES (1, -100, GETDATE());\n",
    "        \n",
    "\t\tUPDATE accounts SET current_balance = current_balance + 100 WHERE account_id = 5;\n",
    "\t\tINSERT INTO transactions VALUES (5, 100, GETDATE());\n",
    "\tCOMMIT TRAN;     \n",
    "END TRY\n",
    "BEGIN CATCH  \n",
    "\tROLLBACK TRAN;\n",
    "END CATCH;"
   ]
  },
  {
   "cell_type": "code",
   "execution_count": null,
   "metadata": {},
   "outputs": [],
   "source": [
    "BEGIN TRY  \n",
    "\t# Begin the transaction\n",
    "\tBEGIN TRAN;\n",
    "\t\tUPDATE accounts SET current_balance = current_balance - 100 WHERE account_id = 1;\n",
    "\t\tINSERT INTO transactions VALUES (1, -100, GETDATE());\n",
    "        \n",
    "\t\tUPDATE accounts SET current_balance = current_balance + 100 WHERE account_id = 5;\n",
    "        # Correct it\n",
    "\t\tINSERT INTO transactions VALUES (500, 100, GETDATE());\n",
    "    # Commit the transaction\n",
    "\tCOMMIT TRAN;    \n",
    "END TRY\n",
    "BEGIN CATCH  \n",
    "\tSELECT 'Rolling back the transaction';\n",
    "    # Rollback the transaction\n",
    "\tROLLBACK TRAN;\n",
    "END CATCH"
   ]
  },
  {
   "cell_type": "code",
   "execution_count": null,
   "metadata": {},
   "outputs": [],
   "source": [
    "# Begin the transaction\n",
    "BEGIN TRAN; \n",
    "\tUPDATE accounts set current_balance = current_balance + 100\n",
    "\t\tWHERE current_balance < 5000;\n",
    "\t# Check number of affected rows\n",
    "\tIF @@ROWCOUNT > 200 \n",
    "\t\tBEGIN \n",
    "        \t# Rollback the transaction\n",
    "\t\t\tROLLBACK TRAN; \n",
    "\t\t\tSELECT 'More accounts than expected. Rolling back'; \n",
    "\t\tEND\n",
    "\tELSE\n",
    "\t\tBEGIN \n",
    "        \t# Commit the transaction\n",
    "\t\t\tCOMMIT TRAN; \n",
    "\t\t\tSELECT 'Updates commited'; \n",
    "\t\tEND"
   ]
  },
  {
   "cell_type": "markdown",
   "metadata": {},
   "source": [
    "# @@TRANCOUNT and savepoint "
   ]
  },
  {
   "cell_type": "code",
   "execution_count": null,
   "metadata": {},
   "outputs": [],
   "source": [
    "BEGIN TRY\n",
    "\t# Begin the transaction\n",
    "\tBEGIN TRAN;\n",
    "    \t# Correct the mistake\n",
    "\t\tUPDATE accounts SET current_balance = current_balance + 200\n",
    "\t\t\tWHERE account_id = 10;\n",
    "    \t# Check if there is a transaction\n",
    "\t\tIF @@TRANCOUNT > 0     \n",
    "    \t\t# Commit the transaction\n",
    "\t\t\tCOMMIT TRAN;\n",
    "     \n",
    "\tSELECT * FROM accounts\n",
    "    \tWHERE account_id = 10;      \n",
    "END TRY\n",
    "BEGIN CATCH  \n",
    "    SELECT 'Rolling back the transaction'; \n",
    "    # Check if there is a transaction\n",
    "    IF @@TRANCOUNT > 0   \t\n",
    "    \t# Rollback the transaction\n",
    "        ROLLBACK TRAN;\n",
    "END CATCH"
   ]
  },
  {
   "cell_type": "code",
   "execution_count": null,
   "metadata": {},
   "outputs": [],
   "source": [
    "BEGIN TRAN;\n",
    "\t# Mark savepoint1\n",
    "\tSAVE TRAN savepoint1;\n",
    "\tINSERT INTO customers VALUES ('Mark', 'Davis', 'markdavis@mail.com', '555909090');\n",
    "\n",
    "\t# Mark savepoint2\n",
    "    SAVE TRAN savepoint2;\n",
    "\tINSERT INTO customers VALUES ('Zack', 'Roberts', 'zackroberts@mail.com', '555919191');\n",
    "\n",
    "\t# Rollback savepoint2\n",
    "\tROLLBACK TRAN savepoint2;\n",
    "    # Rollback savepoint1\n",
    "\tROLLBACK TRAN savepoint1;\n",
    "\n",
    "\t# Mark savepoint3\n",
    "\tSAVE TRAN savepoint3;\n",
    "\tINSERT INTO customers VALUES ('Jeremy', 'Johnsson', 'jeremyjohnsson@mail.com', '555929292');\n",
    "# Commit the transaction\n",
    "COMMIT TRAN;"
   ]
  },
  {
   "cell_type": "markdown",
   "metadata": {},
   "source": [
    "# XACT_ABORT & XACT_STATE\n",
    " "
   ]
  },
  {
   "cell_type": "code",
   "execution_count": null,
   "metadata": {},
   "outputs": [],
   "source": [
    "# If there is an error and XACT_ABORT is set to ON, the transaction will always be rollbacked."
   ]
  },
  {
   "cell_type": "code",
   "execution_count": null,
   "metadata": {},
   "outputs": [],
   "source": [
    "# Use the appropriate setting\n",
    "SET XACT_ABORT ON;\n",
    "# Begin the transaction\n",
    "BEGIN TRAN; \n",
    "\tUPDATE accounts set current_balance = current_balance - current_balance * 0.01 / 100\n",
    "\t\tWHERE current_balance > 5000000;\n",
    "\tIF @@ROWCOUNT <= 10\t\n",
    "    \t# Throw the error\n",
    "\t\tTHROW 55000, 'Not enough wealthy customers!', 1;\n",
    "\tELSE\t\t\n",
    "    \t# Commit the transaction\n",
    "\t\tCOMMIT TRAN; "
   ]
  },
  {
   "cell_type": "code",
   "execution_count": null,
   "metadata": {},
   "outputs": [],
   "source": [
    "# Use the appropriate setting\n",
    "SET XACT_ABORT ON;\n",
    "BEGIN TRY\n",
    "\tBEGIN TRAN;\n",
    "\t\tINSERT INTO customers VALUES ('Mark', 'Davis', 'markdavis@mail.com', '555909090');\n",
    "\t\tINSERT INTO customers VALUES ('Dylan', 'Smith', 'dylansmith@mail.com', '555888999');\n",
    "\tCOMMIT TRAN;\n",
    "END TRY\n",
    "BEGIN CATCH\n",
    "\t# Check if there is an open transaction\n",
    "\tIF XACT_STATE() <> 0\n",
    "    \t# Rollback the transaction\n",
    "\t\tROLLBACK TRAN;\n",
    "    #Select the message of the error\n",
    "    SELECT ERROR_MESSAGE() AS Error_message;\n",
    "END CATCH"
   ]
  },
  {
   "cell_type": "markdown",
   "metadata": {},
   "source": [
    "# Transaction isolation levels\n",
    " "
   ]
  },
  {
   "cell_type": "code",
   "execution_count": null,
   "metadata": {},
   "outputs": [],
   "source": [
    "# Which of the following is true about these concurrency phenomena?\n",
    "\n",
    "# Phantom reads occur when a transaction reads some records twice, but the first result it gets is different \n",
    "# from the second result as a consequence of another committed transaction having inserted a row."
   ]
  },
  {
   "cell_type": "code",
   "execution_count": null,
   "metadata": {},
   "outputs": [],
   "source": [
    "BEGIN TRAN\n",
    "\n",
    "  INSERT INTO customers (first_name, last_name, email, phone)\n",
    "  VALUES ('Ann', 'Ros', 'aros@mail.com', '555555555')\n",
    "\n",
    "  DECLARE @cust_id INT = scope_identity()\n",
    "\n",
    "  INSERT INTO accounts (account_number, customer_id, current_balance)\n",
    "  VALUES ('55555555555010121212', @cust_id, 150)\n",
    "\n",
    "COMMIT TRAN"
   ]
  },
  {
   "cell_type": "code",
   "execution_count": null,
   "metadata": {},
   "outputs": [],
   "source": [
    "# Set the appropriate isolation level\n",
    "SET TRANSACTION ISOLATION LEVEL READ UNCOMMITTED\n",
    "\n",
    "\t# Select first_name, last_name, email and phone\n",
    "\tSELECT\n",
    "    \tfirst_name, \n",
    "        last_name, \n",
    "        email,\n",
    "        phone\n",
    "    FROM customers;"
   ]
  },
  {
   "cell_type": "markdown",
   "metadata": {},
   "source": [
    "# READ COMMITTED & REPEATABLE READ\n",
    " "
   ]
  },
  {
   "cell_type": "code",
   "execution_count": null,
   "metadata": {},
   "outputs": [],
   "source": [
    "# REPEATABLE READ isolation level can also prevent dirty reads."
   ]
  },
  {
   "cell_type": "code",
   "execution_count": null,
   "metadata": {},
   "outputs": [],
   "source": [
    "# Set the appropriate isolation level\n",
    "SET TRANSACTION ISOLATION LEVEL READ COMMITTED\n",
    "\n",
    "# Count the accounts\n",
    "SELECT COUNT(*) AS number_of_accounts\n",
    "FROM accounts\n",
    "WHERE current_balance >= 50000;"
   ]
  },
  {
   "cell_type": "markdown",
   "metadata": {},
   "source": [
    "# SERIALIZABLE isolation level"
   ]
  },
  {
   "cell_type": "code",
   "execution_count": null,
   "metadata": {},
   "outputs": [],
   "source": [
    "# Set the appropriate isolation level\n",
    "SET transaction ISOLATION LEVEL SERIALIZABLE\n",
    "\n",
    "# Begin a transaction\n",
    "BEGIN TRAN\n",
    "\n",
    "SELECT * FROM customers;\n",
    "\n",
    "# After some mathematical operations, we selected information from the customers table.\n",
    "SELECT * FROM customers;\n",
    "\n",
    "# Commit the transaction\n",
    "COMMIT TRAN"
   ]
  },
  {
   "cell_type": "code",
   "execution_count": null,
   "metadata": {},
   "outputs": [],
   "source": [
    "# Set the appropriate isolation level\n",
    "SET TRANSACTION ISOLATION LEVEL SERIALIZABLE\n",
    "\n",
    "# Begin a transaction\n",
    "BEGIN TRAN\n",
    "\n",
    "# Select customer_id between 1 and 10\n",
    "SELECT * \n",
    "FROM customers\n",
    "WHERE customer_id BETWEEN 1 AND 10;\n",
    "\n",
    "# After completing some mathematical operation, select customer_id between 1 and 10\n",
    "SELECT * \n",
    "FROM customers\n",
    "WHERE customer_id BETWEEN 1 AND 10;\n",
    "\n",
    "# Commit the transaction\n",
    "COMMIT TRAN"
   ]
  },
  {
   "cell_type": "markdown",
   "metadata": {},
   "source": [
    "# SNAPSHOT"
   ]
  },
  {
   "cell_type": "code",
   "execution_count": null,
   "metadata": {},
   "outputs": [],
   "source": [
    "ALTER DATABASE myDatabaseName SET ALLOW_SNAPSHOT_ISOLATION ON \n",
    "ALTER DATABASE myDatabaseName SET READ_COMMITTED_SNAPSHOT ON."
   ]
  },
  {
   "cell_type": "code",
   "execution_count": null,
   "metadata": {},
   "outputs": [],
   "source": [
    "The WITH (NOLOCK) option behaves like the READ UNCOMMITTED isolation level. \n",
    "But whereas the isolation level applies for the entire connection, WITH NOLOCK applies to a specific table."
   ]
  },
  {
   "cell_type": "code",
   "execution_count": null,
   "metadata": {},
   "outputs": [],
   "source": []
  }
 ],
 "metadata": {
  "kernelspec": {
   "display_name": "Python 3",
   "language": "python",
   "name": "python3"
  },
  "language_info": {
   "codemirror_mode": {
    "name": "ipython",
    "version": 3
   },
   "file_extension": ".py",
   "mimetype": "text/x-python",
   "name": "python",
   "nbconvert_exporter": "python",
   "pygments_lexer": "ipython3",
   "version": "3.8.5"
  }
 },
 "nbformat": 4,
 "nbformat_minor": 4
}
