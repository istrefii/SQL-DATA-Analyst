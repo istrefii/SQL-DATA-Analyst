{
 "cells": [
  {
   "cell_type": "code",
   "execution_count": null,
   "metadata": {},
   "outputs": [],
   "source": [
    "# Limit the number of rows returned\n",
    "SELECT \n",
    "  TOP (50) points \n",
    "FROM \n",
    "  eurovision;\n",
    "    \n",
    "#  Return unique countries and use an alias\n",
    "SELECT \n",
    " DISTINCT(country) AS unique_country \n",
    "FROM \n",
    "  eurovision;    "
   ]
  },
  {
   "cell_type": "code",
   "execution_count": null,
   "metadata": {},
   "outputs": [],
   "source": [
    "# Amend the code to select all rows and columns\n",
    "SELECT \n",
    "  country, \n",
    "  event_year \n",
    "FROM \n",
    "  eurovision;\n",
    "    \n",
    "# Return all columns, restricting the percent of rows returned\n",
    "SELECT \n",
    "  TOP (50) PERCENT * \n",
    "FROM \n",
    "  eurovision"
   ]
  },
  {
   "cell_type": "markdown",
   "metadata": {},
   "source": [
    "# Ordering and filtering\n",
    " "
   ]
  },
  {
   "cell_type": "code",
   "execution_count": null,
   "metadata": {},
   "outputs": [],
   "source": [
    "# Select the first 5 rows from the specified columns\n",
    "SELECT \n",
    "  TOP (5) description, \n",
    "  event_date \n",
    "FROM \n",
    "  grid \n",
    "  # Order your results by the event_date column\n",
    "ORDER BY \n",
    "  event_date;\n",
    "    \n",
    "# Select the top 20 rows from description, nerc_region and event_date\n",
    "SELECT \n",
    "  TOP (20) description,\n",
    "  nerc_region,\n",
    "  event_date\n",
    "FROM \n",
    "  grid \n",
    "  # Order by nerc_region, affected_customers & event_date\n",
    "  # Event_date should be in descending order\n",
    "ORDER BY\n",
    "  nerc_region,\n",
    "  affected_customers,\n",
    "  event_date DESC;"
   ]
  },
  {
   "cell_type": "code",
   "execution_count": null,
   "metadata": {},
   "outputs": [],
   "source": [
    "# Select description and event_year\n",
    "SELECT \n",
    "  description, \n",
    "  event_year \n",
    "FROM \n",
    "  grid \n",
    "  # Filter the results\n",
    "WHERE \n",
    "  description = 'Vandalism';"
   ]
  },
  {
   "cell_type": "code",
   "execution_count": null,
   "metadata": {},
   "outputs": [],
   "source": [
    "# Select description, affected_customers and event date\n",
    "SELECT \n",
    "  description, \n",
    "  affected_customers,\n",
    "  event_date\n",
    "FROM \n",
    "  grid \n",
    "  # The affected_customers column should be >= 50000 and <=150000   \n",
    "WHERE \n",
    "  affected_customers BETWEEN 50000\n",
    "  AND 150000 \n",
    "   # Define the order   \n",
    "order by \n",
    "  event_date DESC;"
   ]
  },
  {
   "cell_type": "code",
   "execution_count": null,
   "metadata": {},
   "outputs": [],
   "source": [
    "# Retrieve all columns\n",
    "SELECT \n",
    "  * \n",
    "FROM \n",
    "  grid \n",
    "  # Return rows where demand_loss_mw is not missing or unknown   \n",
    "WHERE \n",
    "  demand_loss_mw IS NULL;\n",
    "    \n",
    "# Retrieve all columns\n",
    "SELECT \n",
    "  * \n",
    "FROM \n",
    "  grid \n",
    "  # Return rows where demand_loss_mw is not missing or unknown   \n",
    "WHERE \n",
    "  demand_loss_mw IS NOT NULL;"
   ]
  },
  {
   "cell_type": "markdown",
   "metadata": {},
   "source": [
    "# Where the wild things are"
   ]
  },
  {
   "cell_type": "code",
   "execution_count": null,
   "metadata": {},
   "outputs": [],
   "source": [
    "# Retrieve the song,artist and release_year columns\n",
    "SELECT \n",
    "  song, \n",
    "  artist, \n",
    "  release_year \n",
    "FROM \n",
    "  songlist \n",
    "  # Ensure there are no missing or unknown values in the release_year column\n",
    "WHERE \n",
    "  release_year IS NOT NULL \n",
    "  # Arrange the results by the artist and release_year columns\n",
    "ORDER BY \n",
    "  artist, \n",
    "  release_year;"
   ]
  },
  {
   "cell_type": "code",
   "execution_count": null,
   "metadata": {},
   "outputs": [],
   "source": [
    "SELECT \n",
    "  song, \n",
    "  artist, \n",
    "  release_year\n",
    "FROM \n",
    "  songlist \n",
    "WHERE \n",
    "  # Retrieve records greater than and including 1980\n",
    "  release_year >= 1980 \n",
    "  #  AND \n",
    "  AND release_year <= 1990 \n",
    "ORDER BY \n",
    "  artist, \n",
    "  release_year;"
   ]
  },
  {
   "cell_type": "code",
   "execution_count": null,
   "metadata": {},
   "outputs": [],
   "source": [
    "SELECT \n",
    "  artist, \n",
    "  release_year, \n",
    "  song \n",
    "FROM \n",
    "  songlist \n",
    "  # Choose the correct artist and specify the release year\n",
    "WHERE \n",
    "  (\n",
    "    artist LIKE 'B%' \n",
    "    AND release_year = 1986\n",
    "  ) \n",
    "  # Or return all songs released after 1990\n",
    "  OR release_year > 1990 \n",
    "  # Order the results\n",
    "ORDER BY \n",
    "  release_year, \n",
    "  artist, \n",
    "  song;"
   ]
  },
  {
   "cell_type": "code",
   "execution_count": null,
   "metadata": {},
   "outputs": [],
   "source": [
    "SELECT\n",
    "song\n",
    "FROM\n",
    "songlist\n",
    "WHERE artist='yes' AND release_year='1999'\n",
    "OR\n",
    "WHERE artist='yes' AND release_year>'2000'"
   ]
  },
  {
   "cell_type": "markdown",
   "metadata": {},
   "source": [
    "# Aggregating Data\n",
    " "
   ]
  },
  {
   "cell_type": "code",
   "execution_count": null,
   "metadata": {},
   "outputs": [],
   "source": [
    "# Sum the demand_loss_mw column\n",
    "SELECT \n",
    "  SUM(demand_loss_mw) AS MRO_demand_loss \n",
    "FROM \n",
    "  grid \n",
    "WHERE\n",
    "  # demand_loss_mw should not contain NULL values\n",
    "  demand_loss_mw IS NOT NULL \n",
    "  # and nerc_region should be 'MRO';\n",
    "  AND nerc_region = 'MRO';"
   ]
  },
  {
   "cell_type": "code",
   "execution_count": null,
   "metadata": {},
   "outputs": [],
   "source": [
    "# Obtain a count of 'grid_id'\n",
    "SELECT \n",
    "  COUNT(grid_id) AS RFC_count\n",
    "FROM \n",
    "  grid\n",
    "# Restrict to rows where the nerc_region is 'RFC'\n",
    "where\n",
    "  nerc_region = 'RFC';"
   ]
  },
  {
   "cell_type": "code",
   "execution_count": null,
   "metadata": {},
   "outputs": [],
   "source": [
    "-- Find the average number of affected customers\n",
    "SELECT \n",
    "  AVG(affected_customers) AS avg_affected_customers \n",
    "FROM \n",
    "  grid\n",
    "-- Only retrieve rows where demand_loss_mw has a value\n",
    "WHERE \n",
    "  demand_loss_mw IS NOT NULL;"
   ]
  },
  {
   "cell_type": "markdown",
   "metadata": {},
   "source": [
    "# Strings"
   ]
  },
  {
   "cell_type": "code",
   "execution_count": null,
   "metadata": {},
   "outputs": [],
   "source": [
    "# Calculate the length of the description column\n",
    "SELECT \n",
    "  LEN (description) AS description_length \n",
    "FROM \n",
    "  grid;"
   ]
  },
  {
   "cell_type": "code",
   "execution_count": null,
   "metadata": {},
   "outputs": [],
   "source": [
    "SELECT\n",
    "LEFT(column_name, 25) AS new_column_name\n",
    "FROM\n",
    "table_name\n",
    "\n",
    "# Amend the query to select 25 characters from the  right of the description column\n",
    "SELECT \n",
    "  RIGHT(description, 25) AS last_25_right \n",
    "FROM \n",
    "  grid;"
   ]
  },
  {
   "cell_type": "code",
   "execution_count": null,
   "metadata": {},
   "outputs": [],
   "source": [
    "# Complete the query to find `Weather` within the description column\n",
    "SELECT \n",
    "  description, \n",
    "  CHARINDEX('Weather', description) \n",
    "FROM \n",
    "  grid\n",
    "WHERE description LIKE '%Weather%';\n",
    "\n",
    "# CHARINDEX finds where it starts\n",
    "\n",
    "# Complete the substring function to begin extracting from the correct character in the description column\n",
    "SELECT TOP (10)\n",
    "  description, \n",
    "  CHARINDEX('Weather', description) AS start_of_string, \n",
    "  LEN ('Weather') AS length_of_string, \n",
    "  SUBSTRING(\n",
    "    description, \n",
    "    15, \n",
    "    LEN(description)\n",
    "  ) AS additional_description \n",
    "FROM \n",
    "  grid\n",
    "WHERE description LIKE '%Weather%';"
   ]
  },
  {
   "cell_type": "markdown",
   "metadata": {},
   "source": [
    "# Grouping and Having\n",
    " "
   ]
  },
  {
   "cell_type": "code",
   "execution_count": null,
   "metadata": {},
   "outputs": [],
   "source": [
    "#  Select the region column\n",
    "SELECT \n",
    "  nerc_region,\n",
    "  # Sum the demand_loss_mw column\n",
    "  SUM(demand_loss_mw) AS demand_loss\n",
    "FROM \n",
    "  grid\n",
    "  # Exclude NULL values of demand_loss\n",
    "WHERE \n",
    "  demand_loss_mw is not NULL\n",
    "  # Group the results by nerc_region\n",
    "GROUP BY \n",
    "  nerc_region\n",
    "  # Order the results in descending order of demand_loss\n",
    "ORDER BY \n",
    "  demand_loss DESC;"
   ]
  },
  {
   "cell_type": "code",
   "execution_count": null,
   "metadata": {},
   "outputs": [],
   "source": [
    "SELECT \n",
    "  nerc_region, \n",
    "  SUM (demand_loss_mw) AS demand_loss \n",
    "FROM \n",
    "  grid \n",
    "GROUP BY \n",
    "  nerc_region \n",
    "  # Enter a new HAVING clause so that the sum of demand_loss_mw is greater than 10000\n",
    "HAVING \n",
    "  SUM(demand_loss_mw) > 10000 \n",
    "ORDER BY \n",
    "  demand_loss DESC;"
   ]
  },
  {
   "cell_type": "code",
   "execution_count": null,
   "metadata": {},
   "outputs": [],
   "source": [
    "SELECT \n",
    "  country, \n",
    "  COUNT (country) AS country_count, \n",
    "  AVG (place) AS avg_place, \n",
    "  AVG (points) AS avg_points, \n",
    "  MIN (points) AS min_points, \n",
    "  MAX (points) AS max_points \n",
    "FROM \n",
    "  eurovision \n",
    "GROUP BY \n",
    "  country \n",
    "  # The country column should only contain those with a count greater than 5\n",
    "HAVING \n",
    "  COUNT(country) > 5 \n",
    "  # Arrange columns in the correct order\n",
    "ORDER BY \n",
    "  avg_place, \n",
    "  avg_points desc;"
   ]
  },
  {
   "cell_type": "markdown",
   "metadata": {},
   "source": [
    "# Joining tables\n",
    " "
   ]
  },
  {
   "cell_type": "code",
   "execution_count": null,
   "metadata": {},
   "outputs": [],
   "source": [
    "SELECT \n",
    "tableA.colX,\n",
    "tableA.coly,\n",
    "tableB.colz\n",
    "FROM\n",
    "tableA\n",
    "INNER JOIN \n",
    "table_B ON tableA.foreignkey=table_B.primarykey"
   ]
  },
  {
   "cell_type": "code",
   "execution_count": null,
   "metadata": {},
   "outputs": [],
   "source": [
    "SELECT \n",
    "  track_id,\n",
    "  name AS track_name,\n",
    "  title AS album_title\n",
    "FROM track\n",
    "  #b Complete the join type and the common joining column\n",
    "INNER JOIN album on track.album_id = album.album_id;"
   ]
  },
  {
   "cell_type": "code",
   "execution_count": null,
   "metadata": {},
   "outputs": [],
   "source": [
    "# Select album_id and title from album, and name from artist\n",
    "SELECT \n",
    "  album.album_id,\n",
    "  title,\n",
    "  name AS artist\n",
    "  # Enter the main source table name\n",
    "FROM album\n",
    "  # Perform the inner join\n",
    "INNER JOIN artist on album.artist_id = artist.artist_id;"
   ]
  },
  {
   "cell_type": "code",
   "execution_count": null,
   "metadata": {},
   "outputs": [],
   "source": [
    "SELECT track_id,\n",
    "# Enter the correct table name prefix when retrieving the name column from the track table\n",
    "  track.name AS track_name,\n",
    "  title as album_title,\n",
    "  # Enter the correct table name prefix when retrieving the name column from the artist table\n",
    "  artist.name AS artist_name\n",
    "FROM track\n",
    "  # Complete the matching columns to join album with track, and artist with album\n",
    "INNER JOIN album on track.album_id = album.album_id \n",
    "INNER JOIN artist on album.artist_id = artist.artist_id;"
   ]
  },
  {
   "cell_type": "markdown",
   "metadata": {},
   "source": [
    "# Left & Right join "
   ]
  },
  {
   "cell_type": "code",
   "execution_count": null,
   "metadata": {},
   "outputs": [],
   "source": [
    "# inner joins only return matching rows\n",
    "# left/right all rows from main table plus left table\n",
    "# A LEFT JOIN will return ALL rows in the first table, and any matching rows in the right table`"
   ]
  },
  {
   "cell_type": "code",
   "execution_count": null,
   "metadata": {},
   "outputs": [],
   "source": [
    "SELECT \n",
    "  invoiceline_id,\n",
    "  unit_price, \n",
    "  quantity,\n",
    "  billing_state\n",
    "  # Specify the source table\n",
    "FROM invoiceline \n",
    "  # Complete the join to the invoice table\n",
    "LEFT JOIN invoice\n",
    "ON invoiceline.invoice_id = invoice.invoice_id;"
   ]
  },
  {
   "cell_type": "code",
   "execution_count": null,
   "metadata": {},
   "outputs": [],
   "source": [
    "SELECT \n",
    "  album.album_id,\n",
    "  title,\n",
    "  album.artist_id,\n",
    "  artist.name as artist\n",
    "FROM album\n",
    "INNER JOIN artist ON album.artist_id = artist.artist_id\n",
    "# Perform the correct join type to return matches or NULLS from the track table\n",
    "RIGHT JOIN track on album.album_id = track.album_id\n",
    "WHERE album.album_id IN (213,214)"
   ]
  },
  {
   "cell_type": "markdown",
   "metadata": {},
   "source": [
    "# UNION & UNION ALL"
   ]
  },
  {
   "cell_type": "code",
   "execution_count": null,
   "metadata": {},
   "outputs": [],
   "source": [
    "# can combine querys with union, union all involves duplicates"
   ]
  },
  {
   "cell_type": "code",
   "execution_count": null,
   "metadata": {},
   "outputs": [],
   "source": [
    "SELECT \n",
    "  album_id AS ID,\n",
    "  title AS description,\n",
    "  'Album' AS Source\n",
    "  # Complete the FROM statement\n",
    "FROM album\n",
    " # Combine the result set using the relevant keyword\n",
    "UNION\n",
    "SELECT \n",
    "  artist_id AS ID,\n",
    "  name AS description,\n",
    "  'Artist'  AS Source\n",
    "  # Complete the FROM statement\n",
    "FROM artist;"
   ]
  },
  {
   "cell_type": "markdown",
   "metadata": {},
   "source": [
    "# Creator\n",
    " "
   ]
  },
  {
   "cell_type": "code",
   "execution_count": null,
   "metadata": {},
   "outputs": [],
   "source": [
    "CREATE TABLE test_table(\n",
    "    test_date date,\n",
    "    test_name varchar(20),\n",
    "    test_number int\n",
    ")\n",
    "# CRUD\n",
    "- Create, Read, Update, Delete."
   ]
  },
  {
   "cell_type": "code",
   "execution_count": null,
   "metadata": {},
   "outputs": [],
   "source": [
    "# Create the table\n",
    "CREATE TABLE results (\n",
    "\t# Create track column\n",
    "\ttrack VARCHAR(200),\n",
    "    # Create artist column\n",
    "\tartist VARCHAR(120),\n",
    "    # Create album column\n",
    "\talbum VARCHAR(160),\n",
    "\t# Create track_length_mins\n",
    "\ttrack_length_mins INT,\n",
    "\t);\n",
    "\n",
    "# Select all columns from the table\n",
    "SELECT \n",
    "  track, \n",
    "  artist, \n",
    "  album, \n",
    "  track_length_mins \n",
    "FROM \n",
    "  results;"
   ]
  },
  {
   "cell_type": "markdown",
   "metadata": {},
   "source": [
    "# Insert, Update, Delete\n",
    " "
   ]
  },
  {
   "cell_type": "code",
   "execution_count": null,
   "metadata": {},
   "outputs": [],
   "source": [
    "INSERT INTO table_name (col1, col2, col3)\n",
    "VALUES\n",
    "    ('value1', 'value2', value3)\n",
    "    \n",
    "INSERT INTO table_name(col1, col2, col3)\n",
    "SELECT \n",
    "    column1,\n",
    "    column2,\n",
    "    column3\n",
    "FROM\n",
    "other_table\n",
    "WHERE"
   ]
  },
  {
   "cell_type": "code",
   "execution_count": null,
   "metadata": {},
   "outputs": [],
   "source": [
    "UPDATE table\n",
    "SET column= value,\n",
    "WHERE\n",
    "\n",
    "DELETE\n",
    "FROM table\n",
    "WHERE"
   ]
  },
  {
   "cell_type": "code",
   "execution_count": null,
   "metadata": {},
   "outputs": [],
   "source": [
    "# Create the table\n",
    "CREATE TABLE tracks(\n",
    "  # Create track column\n",
    "  track VARCHAR(200), \n",
    "  # Create album column\n",
    "  album VARCHAR(160), \n",
    "  # Create track_length_mins column\n",
    "  track_length_mins INT\n",
    ");\n",
    "# Complete the statement to enter the data to the table         \n",
    "INSERT INTO tracks\n",
    "# Specify the destination columns\n",
    "(track, album, track_length_mins)\n",
    "# Insert the appropriate values for track, album and track length\n",
    "VALUES\n",
    "  ('Basket Case', 'Dookie', 3);\n",
    "# Select all columns from the new table\n",
    "SELECT \n",
    "  *\n",
    "FROM \n",
    "  tracks;"
   ]
  },
  {
   "cell_type": "code",
   "execution_count": null,
   "metadata": {},
   "outputs": [],
   "source": [
    "# Select the album\n",
    "SELECT \n",
    "  title \n",
    "FROM \n",
    "  album \n",
    "WHERE \n",
    "  album_id = 213;\n",
    "# UPDATE the title of the album\n",
    "UPDATE \n",
    "  album \n",
    "SET \n",
    "  title = 'Pure Cult: The Best Of The Cult' \n",
    "WHERE \n",
    "  album_id = 213;\n",
    "# Run the query again\n",
    "SELECT \n",
    "  title \n",
    "FROM \n",
    "  album\n",
    "WHERE \n",
    "  album_id = 213;"
   ]
  },
  {
   "cell_type": "code",
   "execution_count": null,
   "metadata": {},
   "outputs": [],
   "source": [
    "# Run the query\n",
    "SELECT \n",
    "  * \n",
    "FROM \n",
    "  album \n",
    "  # DELETE the record\n",
    "DELETE FROM \n",
    "  album \n",
    "WHERE \n",
    "  album_id = 1 \n",
    "  # Run the query again\n",
    "SELECT \n",
    "  * \n",
    "FROM \n",
    "  album;"
   ]
  },
  {
   "cell_type": "markdown",
   "metadata": {},
   "source": [
    "# Declare yourself\n",
    " "
   ]
  },
  {
   "cell_type": "code",
   "execution_count": null,
   "metadata": {},
   "outputs": [],
   "source": [
    "# temp table\n",
    "SELECT,\n",
    "    col1,\n",
    "    col2,\n",
    "    col3 INTO temp_table\n",
    "FROM pervious_table\n",
    "WHERE \n",
    "\n",
    "#variable\n",
    "DECLARE @my_artist varchar(100)\n",
    "DECLARE @my_album varchar(200);\n",
    "\n",
    "SET @my_artist = 'AC/DC'\n",
    "SET @my_album= 'Views'"
   ]
  },
  {
   "cell_type": "code",
   "execution_count": null,
   "metadata": {},
   "outputs": [],
   "source": [
    "# Declare the variable @region\n",
    "DECLARE @region VARCHAR(10)\n",
    "\n",
    "# Update the variable value\n",
    "SET @region = 'RFC'\n",
    "\n",
    "SELECT description,\n",
    "       nerc_region,\n",
    "       demand_loss_mw,\n",
    "       affected_customers\n",
    "FROM grid\n",
    "WHERE nerc_region = @region;"
   ]
  },
  {
   "cell_type": "code",
   "execution_count": null,
   "metadata": {},
   "outputs": [],
   "source": [
    "# Declare your variables\n",
    "DECLARE @start DATE\n",
    "DECLARE @stop DATE\n",
    "DECLARE @affected INT;\n",
    "# SET the relevant values for each variable\n",
    "SET @start = '2014-01-24'\n",
    "SET @stop  = '2014-07-02'\n",
    "SET @affected =  5000 ;\n",
    "\n",
    "SELECT \n",
    "  description,\n",
    "  nerc_region,\n",
    "  demand_loss_mw,\n",
    "  affected_customers\n",
    "FROM \n",
    "  grid\n",
    "# Specify the date range of the event_date and the value for @affected\n",
    "WHERE event_date BETWEEN @start AND @stop\n",
    "AND affected_customers >= @affected;"
   ]
  },
  {
   "cell_type": "code",
   "execution_count": null,
   "metadata": {},
   "outputs": [],
   "source": [
    "SELECT  album.title AS album_title,\n",
    "  artist.name as artist,\n",
    "  MAX(track.milliseconds / (1000 * 60) % 60 ) AS max_track_length_mins\n",
    "# Name the temp table #maxtracks\n",
    "INTO maxtracks\n",
    "FROM album\n",
    "# Join album to artist using artist_id\n",
    "INNER JOIN artist ON album.artist_id = artist.artist_id\n",
    "# Join track to album using album_id\n",
    "INNER JOIN track ON track.album_id = album.album_id\n",
    "GROUP BY artist.artist_id, album.title, artist.name,album.album_id\n",
    "# Run the final SELECT query to retrieve the results from the temporary table\n",
    "SELECT album_title, artist, max_track_length_mins\n",
    "FROM  maxtracks\n",
    "ORDER BY max_track_length_mins DESC, artist;"
   ]
  }
 ],
 "metadata": {
  "kernelspec": {
   "display_name": "Python 3",
   "language": "python",
   "name": "python3"
  },
  "language_info": {
   "codemirror_mode": {
    "name": "ipython",
    "version": 3
   },
   "file_extension": ".py",
   "mimetype": "text/x-python",
   "name": "python",
   "nbconvert_exporter": "python",
   "pygments_lexer": "ipython3",
   "version": "3.8.5"
  }
 },
 "nbformat": 4,
 "nbformat_minor": 4
}
