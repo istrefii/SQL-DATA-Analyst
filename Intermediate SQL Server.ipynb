{
 "cells": [
  {
   "cell_type": "markdown",
   "metadata": {},
   "source": [
    "# Data analysis with aggregations "
   ]
  },
  {
   "cell_type": "code",
   "execution_count": null,
   "metadata": {},
   "outputs": [],
   "source": [
    "# Calculate the average, minimum and maximum\n",
    "SELECT AVG(DurationSeconds) AS Average, \n",
    "       MIN(DurationSeconds) AS Minimum, \n",
    "       MAX(DurationSeconds) AS Maximum\n",
    "FROM Incidents"
   ]
  },
  {
   "cell_type": "code",
   "execution_count": null,
   "metadata": {},
   "outputs": [],
   "source": [
    "# aggreations with groupby need to using HAVING\n",
    "SELECT State, MAX(DurationSeconds)\n",
    "FROM Incidents\n",
    "GROUP BY State"
   ]
  },
  {
   "cell_type": "code",
   "execution_count": null,
   "metadata": {},
   "outputs": [],
   "source": [
    "# Calculate the aggregations by Shape\n",
    "SELECT Shape,\n",
    "       AVG(DurationSeconds) AS Average, \n",
    "       MIN(DurationSeconds) AS Minimum, \n",
    "       MAX(DurationSeconds) AS Maximum\n",
    "FROM Incidents\n",
    "GROUP BY Shape\n",
    "# Return records where minimum of DurationSeconds is greater than 1\n",
    "HAVING MIN(DurationSeconds) > 1"
   ]
  },
  {
   "cell_type": "markdown",
   "metadata": {},
   "source": [
    "# Dealing with missing data\n",
    " "
   ]
  },
  {
   "cell_type": "code",
   "execution_count": null,
   "metadata": {},
   "outputs": [],
   "source": [
    "# removing null values\n",
    "SELECT *  \n",
    "FROM Incidents\n",
    "WHERE Shape IS NOT NULL\n",
    "\n",
    "# Return the specified columns\n",
    "SELECT IncidentState, IncidentDateTime\n",
    "FROM Incidents\n",
    "# Exclude all the missing values from IncidentState  \n",
    "WHERE IncidentState IS NOT NULL"
   ]
  },
  {
   "cell_type": "code",
   "execution_count": null,
   "metadata": {},
   "outputs": [],
   "source": [
    "# if you want to replace null values with a string\n",
    "# replace any null value in Shape column with Saucer \n",
    "SELECT  Shape, ISNULL(Shape, 'Saucer') AS Shape2\n",
    "FROM Incidents\n",
    "\n",
    "# Check the IncidentState column for missing values and replace them with the City column\n",
    "SELECT IncidentState, ISNULL(IncidentState, City) AS Location\n",
    "FROM Incidents\n",
    "# Filter to only return missing values from IncidentState\n",
    "WHERE IncidentState IS NULL"
   ]
  },
  {
   "cell_type": "code",
   "execution_count": null,
   "metadata": {},
   "outputs": [],
   "source": [
    "# What if you want to replace missing values in one column with another and\n",
    "# want to check the replacement column to make sure it doesn't have any missing values\n",
    "SELECT Shape, City, COALESCE(Shape, City, 'Unknown') as NewShape\n",
    "FROM Incidents\n",
    "\n",
    "# Replace missing values \n",
    "SELECT Country, COALESCE(Country, IncidentState, City) AS Location\n",
    "FROM Incidents\n",
    "WHERE Country IS NULL"
   ]
  },
  {
   "cell_type": "markdown",
   "metadata": {},
   "source": [
    "# Binning Data with CASE"
   ]
  },
  {
   "cell_type": "code",
   "execution_count": null,
   "metadata": {},
   "outputs": [],
   "source": [
    "# select the column country\n",
    "SELECT Country, \n",
    "        #if country is 'us' then name it 'USA'\n",
    "       CASE WHEN Country = 'us'  THEN 'USA'\n",
    "        # anything else name international\n",
    "       ELSE 'International'\n",
    "        #store it in a new column SourceCountry\n",
    "       END AS SourceCountry\n",
    "FROM Incidents"
   ]
  },
  {
   "cell_type": "code",
   "execution_count": null,
   "metadata": {},
   "outputs": [],
   "source": [
    "# Complete the syntax for cutting the duration into different cases\n",
    "SELECT DurationSeconds, \n",
    "# Start with the 2 TSQL keywords, and after the condition a TSQL word and a value\n",
    "       CASE WHEN (DurationSeconds <= 120) THEN 1\n",
    "# The pattern repeats with the same keyword and after the condition the same word and next value    \n",
    "\t   WHEN (DurationSeconds > 120 AND DurationSeconds <= 600) THEN 2\n",
    "# Use the same syntax here  \n",
    "\t   WHEN (DurationSeconds > 601 AND DurationSeconds <= 1200) THEN 3\n",
    "# Use the same syntax here \n",
    "\t   WHEN (DurationSeconds > 1201 AND DurationSeconds <= 5000) THEN 4\n",
    "# Specify a value\n",
    "       ELSE 5 \n",
    "\t   END AS SecondGroup\n",
    "FROM Incidents"
   ]
  },
  {
   "cell_type": "markdown",
   "metadata": {},
   "source": [
    "# Counting and totals\n",
    " "
   ]
  },
  {
   "cell_type": "code",
   "execution_count": null,
   "metadata": {},
   "outputs": [],
   "source": [
    "# Write a query that returns an aggregation \n",
    "SELECT DISTINCT(MixDesc), SUM(Quantity) AS Total\n",
    "FROM Shipments\n",
    "# Group by the relevant column\n",
    "GROUP BY MixDesc"
   ]
  },
  {
   "cell_type": "code",
   "execution_count": null,
   "metadata": {},
   "outputs": [],
   "source": [
    "# Count the number of rows by MixDesc\n",
    "SELECT MixDesc, COUNT(*)\n",
    "FROM Shipments\n",
    "GROUP BY MixDesc\n",
    "\n",
    "SELECT COUNT(DISTINCT MixDesc)"
   ]
  },
  {
   "cell_type": "markdown",
   "metadata": {},
   "source": [
    "# DATE "
   ]
  },
  {
   "cell_type": "code",
   "execution_count": null,
   "metadata": {},
   "outputs": [],
   "source": [
    "# DD for day\n",
    "# MM for month\n",
    "# YY for year\n",
    "# HH for hour\n",
    "# DATEADD(DATEPART, number, date) add or subtract datetime values\n",
    "# DATEADD(DD, 30, '2020-06-21')  find the date 30 days after\n",
    "# DATEDIFF(datepart, startdate, endate) obtain difference between 2 date values\n",
    "# SELECT DATEDIFF(YYYY, DateOne, DateTwo)"
   ]
  },
  {
   "cell_type": "code",
   "execution_count": null,
   "metadata": {},
   "outputs": [],
   "source": [
    "# returns the number of days between OrderDate and ShipDate\n",
    "SELECT OrderDate, ShipDate, \n",
    "       DATEDIFF(DD, OrderDate, ShipDate) AS Duration\n",
    "FROM Shipments\n",
    "\n",
    "# Write a query that returns the approximate delivery date as five days after the ShipDate.\n",
    "Return the DeliveryDate as 5 days after the ShipDate\n",
    "SELECT OrderDate, \n",
    "       DATEADD(DD, 5, ShipDate) AS DeliveryDate\n",
    "FROM Shipments"
   ]
  },
  {
   "cell_type": "markdown",
   "metadata": {},
   "source": [
    "# Rounding and Truncating Numbers "
   ]
  },
  {
   "cell_type": "code",
   "execution_count": null,
   "metadata": {},
   "outputs": [],
   "source": [
    "# ROUND(number, length [,function])\n",
    "SELECT DURATION\n",
    "ROUND(DURATION, 0) AS roundzero, # turn 121.62 to 122.00\n",
    "ROUND(DURATION, 1) AS roundone, # turn 121.62 to 121.600\n",
    "ROUND(DURATION, -1) AS roundtenth # turn 121.62 to 120\n",
    "ROUND(DURATION, -2) AS roundhundred # 121.62 to 100\n",
    "ROUND(DURATION, 0, 1) AS Truncating #17.91 to 17.00 \n",
    "FROM Table"
   ]
  },
  {
   "cell_type": "code",
   "execution_count": null,
   "metadata": {},
   "outputs": [],
   "source": [
    "# round the values in the Cost column to the nearest whole number.\n",
    "# Round Cost to the nearest dollar\n",
    "SELECT Cost, \n",
    "       ROUND(Cost, 0) AS RoundedCost\n",
    "FROM Shipments"
   ]
  },
  {
   "cell_type": "code",
   "execution_count": null,
   "metadata": {},
   "outputs": [],
   "source": [
    "# truncate the values in the Cost column to the nearest whole number.\n",
    "SELECT Cost, \n",
    "       ROUND(cost, 0,1) AS TruncateCost\n",
    "FROM Shipments"
   ]
  },
  {
   "cell_type": "markdown",
   "metadata": {},
   "source": [
    "# More Math Functions"
   ]
  },
  {
   "cell_type": "code",
   "execution_count": null,
   "metadata": {},
   "outputs": [],
   "source": [
    "# absolute number. Return positive\n",
    "ABS(number)\n",
    "# find sqrt, square\n",
    "SQRT(9)\n",
    "SQUARE(9)\n",
    "#log\n",
    "LOG(number [,Base])"
   ]
  },
  {
   "cell_type": "code",
   "execution_count": null,
   "metadata": {},
   "outputs": [],
   "source": [
    "# converts all the negative values in the DeliveryWeight column to positive values.\n",
    "SELECT DeliveryWeight,\n",
    "       ABS(DeliveryWeight) AS AbsoluteValue\n",
    "FROM Shipments"
   ]
  },
  {
   "cell_type": "code",
   "execution_count": null,
   "metadata": {},
   "outputs": [],
   "source": [
    "#  calculates the square and square root of the WeightValue column.\n",
    "SELECT WeightValue,\n",
    "SQUARE(WeightValue) AS WeightSquare,\n",
    "SQRT(WeightValue) AS WeightSqrt\n",
    "FROM Shipment"
   ]
  },
  {
   "cell_type": "markdown",
   "metadata": {},
   "source": [
    "# WHILE loops\n",
    " "
   ]
  },
  {
   "cell_type": "code",
   "execution_count": null,
   "metadata": {},
   "outputs": [],
   "source": [
    "# variable\n",
    "DECLARE @Snack varchar(128)\n",
    "SELECT @Snack = 'Twiz'\n",
    "SELECT @Snack"
   ]
  },
  {
   "cell_type": "code",
   "execution_count": null,
   "metadata": {},
   "outputs": [],
   "source": [
    "# Declare the variable (a SQL Command, the var name, the datatype)\n",
    "DECLARE @counter INT \n",
    "\n",
    "# Set the counter to 20\n",
    "SET @counter = 20\n",
    "\n",
    "# Select and increment the counter by one \n",
    "SELECT @counter = @counter +1\n",
    "\n",
    "# Print the variable\n",
    "SELECT @counter"
   ]
  },
  {
   "cell_type": "code",
   "execution_count": null,
   "metadata": {},
   "outputs": [],
   "source": [
    "# while loop\n",
    "WHILE some_condition \n",
    "\n",
    "BEGIN \n",
    "    -- Perform some operation here\n",
    "END"
   ]
  },
  {
   "cell_type": "code",
   "execution_count": null,
   "metadata": {},
   "outputs": [],
   "source": [
    "DECLARE @counter INT \n",
    "SET @counter = 20\n",
    "\n",
    "# Create a loop\n",
    "WHILE @counter < 30\n",
    "\n",
    "# Loop code starting point\n",
    "BEGIN\n",
    "\tSELECT @counter = @counter + 1\n",
    "# Loop finish\n",
    "END\n",
    "\n",
    "# Check the value of the variable\n",
    "SELECT @counter"
   ]
  },
  {
   "cell_type": "markdown",
   "metadata": {},
   "source": [
    "# Derived tables\n",
    " "
   ]
  },
  {
   "cell_type": "code",
   "execution_count": null,
   "metadata": {},
   "outputs": [],
   "source": [
    "SELECT a.RecordId, a.Age, a.BloodGlucoseRandom, \n",
    "# Select maximum glucose value (use colname from derived table)\n",
    "       b.MaxGlucose\n",
    "FROM Kidney a\n",
    "# Join to derived table\n",
    "JOIN (SELECT Age, MAX(BloodGlucoseRandom) AS MaxGlucose FROM Kidney GROUP BY Age) b\n",
    "# Join on Age\n",
    "ON a.Age = b.Age"
   ]
  },
  {
   "cell_type": "code",
   "execution_count": null,
   "metadata": {},
   "outputs": [],
   "source": [
    "SELECT *\n",
    "FROM Kidney a\n",
    "# JOIN and create the derived table\n",
    "JOIN (SELECT Age, MAX(BloodPressure) AS MaxBloodPressure FROM Kidney GROUP BY Age) b\n",
    "# JOIN on BloodPressure equal to MaxBloodPressure\n",
    "ON a.BloodPressure = b.MaxBloodPressure\n",
    "# Join on Age\n",
    "AND a.Age = b.Age"
   ]
  },
  {
   "cell_type": "markdown",
   "metadata": {},
   "source": [
    "# Common Table Expressions\n",
    " "
   ]
  },
  {
   "cell_type": "code",
   "execution_count": null,
   "metadata": {},
   "outputs": [],
   "source": [
    "# Specify the keyowrds to create the CTE\n",
    "WITH BloodGlucoseRandom (MaxGlucose) \n",
    "AS (SELECT MAX(BloodGlucoseRandom) AS MaxGlucose FROM Kidney)\n",
    "\n",
    "SELECT a.Age, b.MaxGlucose\n",
    "FROM Kidney a\n",
    "# Join the CTE on blood glucose equal to max blood glucose\n",
    "JOIN BloodGlucoseRandom b\n",
    "ON a.BloodGlucoseRandom = b.MaxGlucose"
   ]
  },
  {
   "cell_type": "code",
   "execution_count": null,
   "metadata": {},
   "outputs": [],
   "source": [
    "# Create the CTE\n",
    "WITH BloodPressure (MaxBloodPressure) \n",
    "AS (SELECT MAX(BloodPressure) AS MaxBloodPressure FROM Kidney)\n",
    "\n",
    "SELECT *\n",
    "FROM Kidney a\n",
    "# Join the CTE  \n",
    "JOIN BloodPressure b\n",
    "ON a.BloodPressure = b.MaxBloodPressure"
   ]
  },
  {
   "cell_type": "markdown",
   "metadata": {},
   "source": [
    "# Window functions in T-SQL\n",
    " "
   ]
  },
  {
   "cell_type": "code",
   "execution_count": null,
   "metadata": {},
   "outputs": [],
   "source": [
    "OVER(PARITION BY SalesYear ORDER BY SalesYear)"
   ]
  },
  {
   "cell_type": "code",
   "execution_count": null,
   "metadata": {},
   "outputs": [],
   "source": [
    "# the table changes based on territoryName\n",
    "SELECT OrderID, TerritoryName, \n",
    "       #Total price using the partition\n",
    "       SUM(OrderPrice) \n",
    "       # Create the window and partitions\n",
    "       OVER(PARTITION BY TerritoryName) AS TotalPrice\n",
    "FROM Orders"
   ]
  },
  {
   "cell_type": "code",
   "execution_count": null,
   "metadata": {},
   "outputs": [],
   "source": [
    "SELECT OrderID, TerritoryName, \n",
    "       # Number of rows per partition\n",
    "       COUNT(*) \n",
    "       # Create the window and partitions\n",
    "       OVER(PARTITION BY TerritoryName) AS TotalOrders\n",
    "FROM Orders"
   ]
  },
  {
   "cell_type": "markdown",
   "metadata": {},
   "source": [
    "# Common window functions\n",
    " "
   ]
  },
  {
   "cell_type": "code",
   "execution_count": null,
   "metadata": {},
   "outputs": [],
   "source": [
    "SELECT TerritoryName, OrderDate, \n",
    "       # Select the first value in each partition\n",
    "       FIRST_VALUE(OrderDate) \n",
    "       # Create the partitions and arrange the rows\n",
    "       OVER(PARTITION BY TerritoryName ORDER BY OrderDate) AS FirstOrder\n",
    "FROM Orders"
   ]
  },
  {
   "cell_type": "code",
   "execution_count": null,
   "metadata": {},
   "outputs": [],
   "source": [
    "SELECT TerritoryName, OrderDate, \n",
    "       # Specify the previous OrderDate in the window\n",
    "       LAG(OrderDate) \n",
    "       # Over the window, partition by territory & order by order date\n",
    "       OVER(PARTITION BY TerritoryName ORDER BY OrderDate) AS PreviousOrder,\n",
    "       # Specify the next OrderDate in the window\n",
    "       LEAD(OrderDate) \n",
    "       # Create the partitions and arrange the rows\n",
    "       OVER(PARTITION BY TerritoryName ORDER BY OrderDate) AS NextOrder\n",
    "FROM Orders"
   ]
  },
  {
   "cell_type": "markdown",
   "metadata": {},
   "source": [
    "\n",
    "# Increasing window complexity\n",
    " "
   ]
  },
  {
   "cell_type": "code",
   "execution_count": null,
   "metadata": {},
   "outputs": [],
   "source": [
    "SELECT TerritoryName, OrderDate, \n",
    "       # Create a running total\n",
    "       SUM(OrderPrice) \n",
    "       # Create the partitions and arrange the rows\n",
    "       OVER(PARTITION BY TerritoryName ORDER BY OrderDate) AS TerritoryTotal\t  \n",
    "FROM Orders"
   ]
  },
  {
   "cell_type": "code",
   "execution_count": null,
   "metadata": {},
   "outputs": [],
   "source": [
    "SELECT TerritoryName, OrderDate, \n",
    "       # Assign a row number\n",
    "       ROW_NUMBER() \n",
    "       # Create the partitions and arrange the rows\n",
    "       OVER(PARTITION BY TerritoryName ORDER BY OrderDate) AS OrderCount\n",
    "FROM Orders"
   ]
  },
  {
   "cell_type": "markdown",
   "metadata": {},
   "source": [
    "# Using windows for statistical functions\n"
   ]
  },
  {
   "cell_type": "code",
   "execution_count": null,
   "metadata": {},
   "outputs": [],
   "source": [
    "SELECT OrderDate, TerritoryName, \n",
    "       # Calculate the standard deviation\n",
    "\t   STDEV(OrderPrice) \n",
    "       OVER(PARTITION BY TerritoryName ORDER BY OrderDate) AS StdDevPrice\t  \n",
    "FROM Orders"
   ]
  },
  {
   "cell_type": "code",
   "execution_count": null,
   "metadata": {},
   "outputs": [],
   "source": [
    "# Create a CTE Called ModePrice which contains two columns\n",
    "WITH ModePrice (OrderPrice, UnitPriceFrequency)\n",
    "AS\n",
    "(\n",
    "\tSELECT OrderPrice, \n",
    "\tROW_NUMBER() \n",
    "\tOVER(PARTITION BY OrderPrice ORDER BY OrderPrice) AS UnitPriceFrequency\n",
    "\tFROM Orders \n",
    ")\n",
    "\n",
    "# Select everything from the CTE\n",
    "SELECT * \n",
    "FROM ModePrice"
   ]
  },
  {
   "cell_type": "code",
   "execution_count": null,
   "metadata": {},
   "outputs": [],
   "source": [
    "# CTE from the previous exercise\n",
    "WITH ModePrice (OrderPrice, UnitPriceFrequency)\n",
    "AS\n",
    "(\n",
    "\tSELECT OrderPrice,\n",
    "\tROW_NUMBER() \n",
    "    OVER (PARTITION BY OrderPrice ORDER BY OrderPrice) AS UnitPriceFrequency\n",
    "\tFROM Orders\n",
    ")\n",
    "\n",
    "# Select the order price from the CTE\n",
    "SELECT OrderPrice AS ModeOrderPrice\n",
    "FROM ModePrice\n",
    "# Select the maximum UnitPriceFrequency from the CTE\n",
    "WHERE UnitPriceFrequency IN (SELECT MAX(UnitPriceFrequency) From ModePrice)"
   ]
  }
 ],
 "metadata": {
  "kernelspec": {
   "display_name": "Python 3",
   "language": "python",
   "name": "python3"
  },
  "language_info": {
   "codemirror_mode": {
    "name": "ipython",
    "version": 3
   },
   "file_extension": ".py",
   "mimetype": "text/x-python",
   "name": "python",
   "nbconvert_exporter": "python",
   "pygments_lexer": "ipython3",
   "version": "3.8.5"
  }
 },
 "nbformat": 4,
 "nbformat_minor": 4
}
