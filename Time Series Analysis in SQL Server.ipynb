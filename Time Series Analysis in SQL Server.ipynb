{
 "cells": [
  {
   "cell_type": "markdown",
   "metadata": {},
   "source": [
    "# Building dates\n",
    " "
   ]
  },
  {
   "cell_type": "code",
   "execution_count": null,
   "metadata": {},
   "outputs": [],
   "source": [
    "SELECT \n",
    "GETDATE() AS DateTime_LTz,\n",
    "GETUTCDATE() AS DateTime_UTC\n",
    "\n",
    "@DECLARE DATE= '2012-01-01 08:15:43'\n",
    "\n",
    "SELECT YEAR(DATE)\n",
    "SELECT MONTH(DATE)\n",
    "\n",
    "SELECT DATEPART(YEAR, @dt) AS YEAR\n",
    "SELECT DATENAME(MONTH, @dt) AS MONTH\n",
    "\n",
    "SELECT DATEADD(DAY, 1, DATE) AS NEXT DAY\n",
    "SELECT DATEADD(HOUR, -3, DATEADD(DAY, -4, DATE)) AS -4 day -3hours\n",
    "\n",
    "DATEDIFF(HOURS, DATE_1, date_2)"
   ]
  },
  {
   "cell_type": "code",
   "execution_count": null,
   "metadata": {},
   "outputs": [],
   "source": [
    "DECLARE\n",
    "\t@SomeTime DATETIME2(7) = SYSUTCDATETIME();\n",
    "\n",
    "# Retrieve the year, month, and day\n",
    "SELECT\n",
    "\tYEAR(@SomeTime) AS TheYear,\n",
    "\tMONTH(@SomeTime) AS TheMonth,\n",
    "\tDAY(@SomeTime) AS TheDay"
   ]
  },
  {
   "cell_type": "code",
   "execution_count": null,
   "metadata": {},
   "outputs": [],
   "source": [
    "https://docs.microsoft.com/en-us/sql/t-sql/functions/datepart-transact-sql"
   ]
  },
  {
   "cell_type": "code",
   "execution_count": null,
   "metadata": {},
   "outputs": [],
   "source": [
    "#date part is the number ex month=7\n",
    "DECLARE\n",
    "\t@BerlinWallFalls DATETIME2(7) = '1989-11-09 23:49:36.2294852';\n",
    "\n",
    "# Fill in each date part\n",
    "SELECT\n",
    "\tDATEPART(YEAR, @BerlinWallFalls) AS TheYear,\n",
    "\tDATEPART(MONTH, @BerlinWallFalls) AS TheMonth,\n",
    "\tDATEPART(DAY, @BerlinWallFalls) AS TheDay,\n",
    "\tDATEPART(DAYOFYEAR, @BerlinWallFalls) AS TheDayOfYear,\n",
    "    # Day of week is WEEKDAY\n",
    "\tDATEPART(WEEKDAY, @BerlinWallFalls) AS TheDayOfWeek,\n",
    "\tDATEPART(WEEK, @BerlinWallFalls) AS TheWeek,\n",
    "\tDATEPART(SECOND, @BerlinWallFalls) AS TheSecond,\n",
    "\tDATEPART(NanoSecond, @BerlinWallFalls) AS TheNanosecond;"
   ]
  },
  {
   "cell_type": "code",
   "execution_count": null,
   "metadata": {},
   "outputs": [],
   "source": [
    "# date name is the name ex month='July'\n",
    "DECLARE\n",
    "\t@BerlinWallFalls DATETIME2(7) = '1989-11-09 23:49:36.2294852';\n",
    "\n",
    "# Fill in the function to show the name of each date part\n",
    "SELECT\n",
    "\tDATENAME(YEAR, @BerlinWallFalls) AS TheYear,\n",
    "\tDATENAME(MONTH, @BerlinWallFalls) AS TheMonth,\n",
    "\tDATENAME(DAY, @BerlinWallFalls) AS TheDay,\n",
    "\tDATENAME(DAYOFYEAR, @BerlinWallFalls) AS TheDayOfYear,\n",
    "    # Day of week is WEEKDAY\n",
    "\tDATENAME(WEEKDAY, @BerlinWallFalls) AS TheDayOfWeek,\n",
    "\tDATENAME(WEEK, @BerlinWallFalls) AS TheWeek,\n",
    "\tDATENAME(SECOND, @BerlinWallFalls) AS TheSecond,\n",
    "\tDATENAME(NANOSECOND, @BerlinWallFalls) AS TheNanosecond;"
   ]
  },
  {
   "cell_type": "code",
   "execution_count": null,
   "metadata": {},
   "outputs": [],
   "source": [
    "# dateadd add certain amount to the date\n",
    "DECLARE\n",
    "\t@PostLeapDay DATETIME2(7) = '2012-03-01 18:00:00';\n",
    "\n",
    "# Fill in the date parts and intervals as needed\n",
    "SELECT\n",
    "\tDATEADD(DAY, -1, @PostLeapDay) AS PriorDay,\n",
    "\tDATEADD(DAY, 1, @PostLeapDay) AS NextDay,\n",
    "\tDATEADD(YEAR, -4, @PostLeapDay) AS PriorLeapYear,\n",
    "\tDATEADD(YEAR, 4, @PostLeapDay) AS NextLeapYear,\n",
    "\tDATEADD(YEAR, -1, @PostLeapDay) AS PriorYear,\n",
    "    # Move 4 years forward and one day back\n",
    "\tDATEADD(DAY, -1, DATEADD(YEAR, 4, @PostLeapDay)) AS NextLeapDay,\n",
    "    DATEADD(DAY, -2, @PostLeapDay) AS TwoDaysAgo;"
   ]
  },
  {
   "cell_type": "code",
   "execution_count": null,
   "metadata": {},
   "outputs": [],
   "source": [
    "# datediff is the difference between dates\n",
    "DECLARE\n",
    "\t@PostLeapDay DATETIME2(7) = '2012-03-01 18:00:00',\n",
    "    @TwoDaysAgo DATETIME2(7);\n",
    "\n",
    "SELECT\n",
    "\t@TwoDaysAgo = DATEADD(DAY, -2, @PostLeapDay);\n",
    "\n",
    "SELECT\n",
    "\t@TwoDaysAgo AS TwoDaysAgo,\n",
    "\t@PostLeapDay AS SomeTime,\n",
    "    #Fill in the appropriate function and date types\n",
    "\tDATEDIFF(DAY, @TwoDaysAgo, @PostLeapDay) AS DaysDifference,\n",
    "\tDATEDIFF(HOUR, @TwoDaysAgo, @PostLeapDay) AS HoursDifference,\n",
    "\tDATEDIFF(MINUTE, @TwoDaysAgo, @PostLeapDay) AS MinutesDifference;"
   ]
  },
  {
   "cell_type": "code",
   "execution_count": null,
   "metadata": {},
   "outputs": [],
   "source": [
    "# rounding it \n",
    "DECLARE\n",
    "\t@SomeTime DATETIME2(7) = '2018-06-14 16:29:36.2248991';\n",
    "\n",
    "# Fill in the appropriate functions and date parts\n",
    "SELECT\n",
    "\tDATEADD(DAY, DATEDIFF(DAY, 0, @SomeTime), 0) AS RoundedToDay,\n",
    "\tDATEADD(HOUR, DATEDIFF(HOUR, 0, @SomeTime), 0) AS RoundedToHour,\n",
    "\tDATEADD(MINUTE, DATEDIFF(MINUTE, 0, @SomeTime), 0) AS RoundedToMinute;"
   ]
  },
  {
   "cell_type": "markdown",
   "metadata": {},
   "source": [
    "# Formatting dates for reporting\n",
    " "
   ]
  },
  {
   "cell_type": "code",
   "execution_count": null,
   "metadata": {},
   "outputs": [],
   "source": [
    "SELECT\n",
    "CAST(variable to DATE) AS DATE_TIME\n",
    "\n",
    "SELECT\n",
    "CONVERT(NVARCHAR(30), @SomeDate, 0) AS DeafultForm\n",
    "\n",
    "SELECT\n",
    "FORMAT(@SomeDate, 'd', 'en-USA') AS US_d"
   ]
  },
  {
   "cell_type": "code",
   "execution_count": null,
   "metadata": {},
   "outputs": [],
   "source": [
    "DECLARE\n",
    "\t@CubsWinWorldSeries DATETIME2(3) = '2016-11-03 00:30:29.245',\n",
    "\t@OlderDateType DATETIME = '2016-11-03 00:30:29.245';\n",
    "\n",
    "SELECT\n",
    "\t# Fill in the missing function calls\n",
    "\tCAST(@CubsWinWorldSeries AS DATE) AS CubsWinDateForm,\n",
    "\tCAST(@CubsWinWorldSeries AS NVARCHAR(30)) AS CubsWinStringForm,\n",
    "\tCAST(@OlderDateType AS DATE) AS OlderDateForm,\n",
    "\tCAST(@OlderDateType AS NVARCHAR(30)) AS OlderStringForm;"
   ]
  },
  {
   "cell_type": "code",
   "execution_count": null,
   "metadata": {},
   "outputs": [],
   "source": [
    "DECLARE\n",
    "\t@CubsWinWorldSeries DATETIME2(3) = '2016-11-03 00:30:29.245';\n",
    "\n",
    "SELECT\n",
    "\tCAST(CAST(@CubsWinWorldSeries AS DATE) AS NVARCHAR(30)) AS DateStringForm;"
   ]
  },
  {
   "cell_type": "code",
   "execution_count": null,
   "metadata": {},
   "outputs": [],
   "source": [
    "DECLARE\n",
    "\t@CubsWinWorldSeries DATETIME2(3) = '2016-11-03 00:30:29.245';\n",
    "\n",
    "SELECT\n",
    "\tCONVERT(NVARCHAR(30), @CubsWinWorldSeries, 0) AS DefaultForm,\n",
    "\tCONVERT(NVARCHAR(30), @CubsWinWorldSeries, 3) AS UK_dmy,\n",
    "\tCONVERT(NVARCHAR(30), @CubsWinWorldSeries, 1) AS US_mdy,\n",
    "\tCONVERT(NVARCHAR(30), @CubsWinWorldSeries, 103) AS UK_dmyyyy,\n",
    "\tCONVERT(NVARCHAR(30), @CubsWinWorldSeries, 101) AS US_mdyyyy;"
   ]
  },
  {
   "cell_type": "markdown",
   "metadata": {},
   "source": [
    "# Working with calendar tables"
   ]
  },
  {
   "cell_type": "code",
   "execution_count": null,
   "metadata": {},
   "outputs": [],
   "source": [
    "# Find Tuesdays in December for calendar years 2008-2010\n",
    "SELECT\n",
    "\tDate\n",
    "FROM dbo.Calendar \n",
    "WHERE\n",
    "\tMonthName = 'December'\n",
    "\tAND DayName = 'Tuesday'\n",
    "\tAND CalendarYear BETWEEN 2008 AND 2010\n",
    "ORDER BY\n",
    "\tDate;\n",
    "    \n",
    "#Find fiscal week 29 of fiscal year 2019\n",
    "SELECT\n",
    "\tc.Date\n",
    "FROM dbo.Calendar c\n",
    "WHERE\n",
    "    # Instead of month, use the fiscal week\n",
    "\tc.FiscalWeekOfYear = 29\n",
    "    # Instead of calendar year, use fiscal year\n",
    "\tAND c.FiscalYear = 2019\n",
    "ORDER BY\n",
    "\tc.Date ASC;"
   ]
  },
  {
   "cell_type": "code",
   "execution_count": null,
   "metadata": {},
   "outputs": [],
   "source": [
    "# joining tables\n",
    "SELECT\n",
    "    t.Column1,\n",
    "    t.Column2\n",
    "FROM dbo.Table t\n",
    "    INNER JOIN dbo.Calendar c\n",
    "        ON t.Date = c.Date;"
   ]
  },
  {
   "cell_type": "code",
   "execution_count": null,
   "metadata": {},
   "outputs": [],
   "source": [
    "SELECT\n",
    "\tir.IncidentDate,\n",
    "\tc.FiscalDayOfYear,\n",
    "\tc.FiscalWeekOfYear\n",
    "FROM dbo.IncidentRollup ir\n",
    "\tINNER JOIN dbo.Calendar c\n",
    "\t\tON ir.IncidentDate = c.Date\n",
    "WHERE\n",
    "    # Incident type 3\n",
    "\tir.IncidentTypeID = 3\n",
    "    # Fiscal year 2019\n",
    "\tAND c.FiscalYear = 2019\n",
    "    # Fiscal quarter 3\n",
    "\tAND c.FiscalQuarter = 3;\n"
   ]
  },
  {
   "cell_type": "code",
   "execution_count": null,
   "metadata": {},
   "outputs": [],
   "source": [
    "SELECT\n",
    "ir.IncidentDate, c.FiscalDayOfYear, c.FiscalWeekOfYear\n",
    "FROM  dbo.IncidentRollup ir\n",
    "INNER JOIN dbo.Calender c\n",
    "ON ir.IncidentDate = c.Date"
   ]
  },
  {
   "cell_type": "markdown",
   "metadata": {},
   "source": [
    "# Building Dates from Parts"
   ]
  },
  {
   "cell_type": "code",
   "execution_count": null,
   "metadata": {},
   "outputs": [],
   "source": [
    "DATEFROMPARTS(year, month, day)\n",
    "TIMEFROMPARTS()\n",
    "DATETIMEFROMPARTS()\n",
    "DATETIME2FROMPARTS()\n",
    "DATETIMEOFFSETFROMPARTS()\n",
    "DATETIMEOFFSETFROMPARTS"
   ]
  },
  {
   "cell_type": "code",
   "execution_count": null,
   "metadata": {},
   "outputs": [],
   "source": [
    "# Create dates from component parts on the calendar table\n",
    "SELECT TOP(10)\n",
    "\tDATEFROMPARTS(c.CalendarYear, c.CalendarMonth, c.Day) AS CalendarDate\n",
    "FROM dbo.Calendar c\n",
    "WHERE\n",
    "\tc.CalendarYear = 2017\n",
    "ORDER BY\n",
    "\tc.FiscalDayOfYear ASC;"
   ]
  },
  {
   "cell_type": "code",
   "execution_count": null,
   "metadata": {},
   "outputs": [],
   "source": [
    "SELECT\n",
    "\t# Mark the date and time the lunar module touched down\n",
    "    # Use 24-hour notation for hours, so e.g., 9 PM is 21\n",
    "\tDATETIME2FROMPARTS(1969, 07, 20, 20, 17, 00, 000, 0) AS TheEagleHasLanded,\n",
    "\t# Mark the date and time the lunar module took back off\n",
    "    # Use 24-hour notation for hours, so e.g., 9 PM is 21\n",
    "\tDATETIMEFROMPARTS(1969, 07, 21, 18, 54, 00, 000) AS MoonDeparture;"
   ]
  },
  {
   "cell_type": "code",
   "execution_count": null,
   "metadata": {},
   "outputs": [],
   "source": [
    "SELECT\n",
    "\t# Fill in the millisecond PRIOR TO chaos\n",
    "\tDATETIMEOFFSETFROMPARTS(2038, 01, 19, 03, 14, 07, 999, 0, 0, 3) AS LastMoment,\n",
    "    # Fill in the date and time when we will experience the Y2.038K problem\n",
    "    # Then convert to the Eastern Standard Time time zone\n",
    "\tDATETIMEOFFSETFROMPARTS(2038, 01, 19, 03, 14, 08, 0, 0, 0, 3) AT TIME ZONE \n",
    "    'Eastern Standard Time' AS TimeForChaos;"
   ]
  },
  {
   "cell_type": "markdown",
   "metadata": {},
   "source": [
    "# Translating date strings"
   ]
  },
  {
   "cell_type": "code",
   "execution_count": null,
   "metadata": {},
   "outputs": [],
   "source": [
    "SELECT\n",
    "\td.DateText AS String,\n",
    "\t# Cast as DATE\n",
    "\tCAST(d.DateText AS Date) AS StringAsDate,\n",
    "\t# Cast as DATETIME2(7)\n",
    "\tCAST(d.DateText AS DATETIME2(7)) AS StringAsDateTime2\n",
    "FROM dbo.Dates d;"
   ]
  },
  {
   "cell_type": "code",
   "execution_count": null,
   "metadata": {},
   "outputs": [],
   "source": [
    "SET LANGUAGE 'GERMAN'\n",
    "\n",
    "SELECT\n",
    "\td.DateText AS String,\n",
    "\t# Convert to DATE\n",
    "\tCONVERT(DATE, d.DateText) AS StringAsDate,\n",
    "\t# Convert to DATETIME2(7)\n",
    "\tCONVERT(DATETIME2(7), d.DateText) AS StringAsDateTime2\n",
    "FROM dbo.Dates d;"
   ]
  },
  {
   "cell_type": "code",
   "execution_count": null,
   "metadata": {},
   "outputs": [],
   "source": [
    "SELECT\n",
    "\td.DateText AS String,\n",
    "\t# Parse as DATE using German\n",
    "\tPARSE(d.DateText AS DATE USING 'de-de') AS StringAsDate,\n",
    "\t# Parse as DATETIME2(7) using German\n",
    "\tPARSE(d.DateText AS DATETIME2(7) USING 'de-de') AS StringAsDateTime2\n",
    "FROM dbo.Dates d;"
   ]
  },
  {
   "cell_type": "markdown",
   "metadata": {},
   "source": [
    "# Working with offsets\n",
    " "
   ]
  },
  {
   "cell_type": "code",
   "execution_count": null,
   "metadata": {},
   "outputs": [],
   "source": [
    "DECLARE\n",
    "\t@OlympicsUTC NVARCHAR(50) = N'2016-08-08 23:00:00';\n",
    "\n",
    "SELECT\n",
    "\t# Fill in the time zone for Brasilia, Brazil. Go back 3 hours from the orginally\n",
    "\tSWITCHOFFSET(@OlympicsUTC, '-03:00') AS BrasiliaTime,\n",
    "\t# Fill in the time zone for Chicago, Illinois\n",
    "\tSWITCHOFFSET(@OlympicsUTC, '-05:00') AS ChicagoTime,\n",
    "\t# Fill in the time zone for New Delhi, India\n",
    "\tSWITCHOFFSET(@OlympicsUTC, '+05:30') AS NewDelhiTime;"
   ]
  },
  {
   "cell_type": "code",
   "execution_count": null,
   "metadata": {},
   "outputs": [],
   "source": [
    "DECLARE\n",
    "\t@OlympicsClosingUTC DATETIME2(0) = '2016-08-21 23:00:00';\n",
    "\n",
    "SELECT\n",
    "\t# Fill in 7 hours back and a '-07:00' offset\n",
    "\tTODATETIMEOFFSET(DATEADD(HOUR, -7, @OlympicsClosingUTC), '-07:00') AS PhoenixTime,\n",
    "\t# Fill in 12 hours forward and a '+12:00' offset.  \n",
    "\tTODATETIMEOFFSET(DATEADD(HOUR, 12, @OlympicsClosingUTC), '+12:00') AS TuvaluTim"
   ]
  },
  {
   "cell_type": "markdown",
   "metadata": {},
   "source": [
    "# Handling invalid dates\n",
    " "
   ]
  },
  {
   "cell_type": "code",
   "execution_count": null,
   "metadata": {},
   "outputs": [],
   "source": [
    "DECLARE\n",
    "\t@GoodDateINTL NVARCHAR(30) = '2019-03-01 18:23:27.920',\n",
    "\t@GoodDateDE NVARCHAR(30) = '13.4.2019',\n",
    "\t@GoodDateUS NVARCHAR(30) = '4/13/2019',\n",
    "\t@BadDate NVARCHAR(30) = N'SOME BAD DATE';\n",
    "    \n",
    "\n",
    "SELECT\n",
    "\t# Fill in the correct data type based on our input\n",
    "\tTRY_CONVERT(DATETIME2(3), @GoodDateINTL) AS GoodDateINTL,\n",
    "\t# Fill in the correct function\n",
    "\tTRY_CONVERT(DATE, @GoodDateDE) AS GoodDateDE,\n",
    "\tTRY_CONVERT(DATE, @GoodDateUS) AS GoodDateUS,\n",
    "\t# Fill in the correct input parameter for BadDate\n",
    "\tTRY_CONVERT(DATETIME2(3), @BadDate) AS BadDate;\n",
    "\n",
    "# The prior solution using TRY_CAST\n",
    "SELECT\n",
    "\tTRY_CAST(@GoodDateINTL AS DATETIME2(3)) AS GoodDateINTL,\n",
    "\tTRY_CAST(@GoodDateDE AS DATE) AS GoodDateDE,\n",
    "\tTRY_CAST(@GoodDateUS AS DATE) AS GoodDateUS,\n",
    "\tTRY_CAST(@BadDate AS DATETIME2(3)) AS BadDate;\n",
    "\n",
    "SELECT\n",
    "\tTRY_PARSE(@GoodDateINTL AS DATETIME2(3)) AS GoodDateINTL,\n",
    "    # Fill in the correct region based on our input\n",
    "    # Be sure to match these data types with the\n",
    "    # TRY_CAST() examples above!\n",
    "\tTRY_PARSE(@GoodDateDE AS DATE USING 'de-de') AS GoodDateDE,\n",
    "\tTRY_PARSE(@GoodDateUS AS DATE USING 'en-us') AS GoodDateUS,\n",
    "    # TRY_PARSE can't fix completely invalid dates\n",
    "\tTRY_PARSE(@BadDate AS DATETIME2(3) USING 'sk-sk') AS BadDate;"
   ]
  },
  {
   "cell_type": "code",
   "execution_count": null,
   "metadata": {},
   "outputs": [],
   "source": [
    "WITH EventDates AS\n",
    "(\n",
    "    SELECT\n",
    "        # Fill in the missing try-conversion function\n",
    "        TRY_CONVERT(DATETIME2(3), it.EventDate) AT TIME ZONE it.TimeZone AS EventDateOffset,\n",
    "        it.TimeZone\n",
    "    FROM dbo.ImportedTime it\n",
    "        INNER JOIN sys.time_zone_info tzi\n",
    "\t\t\tON it.TimeZone = tzi.name\n",
    ")\n",
    "SELECT\n",
    "    # Fill in the approppriate event date to convert\n",
    "\tCONVERT(NVARCHAR(50), ed.EventDateOffset) AS EventDateOffsetString,\n",
    "\tCONVERT(DATETIME2(0), ed.EventDateOffset) AS EventDateLocal,\n",
    "\ted.TimeZone,\n",
    "    # Convert from a DATETIMEOFFSET to DATETIME at UTC\n",
    "\tCAST(ed.EventDateOffset AT TIME ZONE 'UTC' AS DATETIME2(0)) AS EventDateUTC,\n",
    "    # Convert from a DATETIMEOFFSET to DATETIME with time zone\n",
    "\tCAST(ed.EventDateOffset AT TIME ZONE 'US Eastern Standard Time'  AS DATETIME2(0)) AS EventDateUSEast\n",
    "FROM EventDates ed;"
   ]
  },
  {
   "cell_type": "code",
   "execution_count": null,
   "metadata": {},
   "outputs": [],
   "source": [
    "# Try out how fast the TRY_CAST() function is\n",
    "# by try-casting each DateText value to DATE\n",
    "DECLARE @StartTimeCast DATETIME2(7) = SYSUTCDATETIME();\n",
    "SELECT TRY_CAST(DateText AS DATE) AS TestDate FROM #DateText;\n",
    "DECLARE @EndTimeCast DATETIME2(7) = SYSUTCDATETIME();\n",
    "\n",
    "# Determine how much time the conversion took by\n",
    "# calculating the date difference from @StartTimeCast to @EndTimeCast\n",
    "SELECT\n",
    "    DATEDIFF(MILLISECOND, @StartTimeCast, @EndTimeCast) AS ExecutionTimeCast;"
   ]
  },
  {
   "cell_type": "code",
   "execution_count": null,
   "metadata": {},
   "outputs": [],
   "source": [
    "# Try out how fast the TRY_CONVERT() function is\n",
    "# by try-converting each DateText value to DATE\n",
    "DECLARE @StartTimeConvert DATETIME2(7) = SYSUTCDATETIME();\n",
    "SELECT TRY_CONVERT(DATE, DateText) AS TestDate FROM #DateText;\n",
    "DECLARE @EndTimeConvert DATETIME2(7) = SYSUTCDATETIME();\n",
    "\n",
    "# Determine how much time the conversion took by\n",
    "# calculating the difference from start time to end time\n",
    "SELECT\n",
    "    DATEDIFF(MILLISECOND, @StartTimeConvert, @EndTimeConvert) AS ExecutionTimeConvert;"
   ]
  },
  {
   "cell_type": "code",
   "execution_count": null,
   "metadata": {},
   "outputs": [],
   "source": [
    "# Try out how fast the TRY_PARSE() function is\n",
    "# by try-parsing each DateText value to DATE\n",
    "DECLARE @StartTimeParse DATETIME2(7) = SYSUTCDATETIME();\n",
    "SELECT TRY_PARSE(DateText AS DATE) AS TestDate FROM #DateText;\n",
    "DECLARE @EndTimeParse DATETIME2(7) = SYSUTCDATETIME();\n",
    "\n",
    "# Determine how much time the conversion took by\n",
    "# calculating the difference from start time to end time\n",
    "SELECT\n",
    "    DATEDIFF(MILLISECOND, @StartTimeParse, @EndTimeParse) AS ExecutionTimeParse;"
   ]
  },
  {
   "cell_type": "markdown",
   "metadata": {},
   "source": [
    "# Basic aggregate functions\n",
    " "
   ]
  },
  {
   "cell_type": "code",
   "execution_count": 5,
   "metadata": {},
   "outputs": [],
   "source": [
    "# Fill in the appropriate aggregate functions\n",
    "SELECT\n",
    "\tit.IncidentType,\n",
    "\tCOUNT(1) AS NumberOfRows,\n",
    "\tSUM(ir.NumberOfIncidents) AS TotalNumberOfIncidents,\n",
    "\tMIN(ir.NumberOfIncidents) AS MinNumberOfIncidents,\n",
    "\tMAX(ir.NumberOfIncidents) AS MaxNumberOfIncidents,\n",
    "\tMIN(ir.IncidentDate) As MinIncidentDate,\n",
    "\tMAX(ir.IncidentDate) AS MaxIncidentDate\n",
    "FROM dbo.IncidentRollup ir\n",
    "\tINNER JOIN dbo.IncidentType it\n",
    "\t\tON ir.IncidentTypeID = it.IncidentTypeID\n",
    "WHERE\n",
    "\tir.IncidentDate BETWEEN '2019-08-01' AND '2019-10-31'\n",
    "GROUP BY\n",
    "\tit.IncidentType;\n"
   ]
  },
  {
   "cell_type": "code",
   "execution_count": null,
   "metadata": {},
   "outputs": [],
   "source": [
    "# Fill in the functions and columns\n",
    "SELECT\n",
    "\tCOUNT(DISTINCT ir.IncidentTypeID) AS NumberOfIncidentTypes,\n",
    "\tCOUNT(DISTINCT ir.IncidentDate) AS NumberOfDaysWithIncidents\n",
    "FROM dbo.IncidentRollup ir\n",
    "WHERE\n",
    "ir.IncidentDate BETWEEN '2019-08-01' AND '2019-10-31';"
   ]
  },
  {
   "cell_type": "code",
   "execution_count": null,
   "metadata": {},
   "outputs": [],
   "source": [
    "# SUM(CASE WHEN ir.IncidentTypeID = 1 THEN 1 ELSE 0 END)\n",
    "SELECT\n",
    "\tit.IncidentType,\n",
    "    # Fill in the appropriate expression\n",
    "\tSUM(CASE WHEN ir.NumberOfIncidents > 5 THEN 1 ELSE 0 END) AS NumberOfBigIncidentDays,\n",
    "    # Number of incidents will always be at least 1, so\n",
    "    # no need to check the minimum value, just that it's\n",
    "    # less than or equal to 5\n",
    "    SUM(CASE WHEN ir.NumberOfIncidents <= 5 THEN 1 ELSE 0 END) AS NumberOfSmallIncidentDays\n",
    "FROM dbo.IncidentRollup ir\n",
    "\tINNER JOIN dbo.IncidentType it\n",
    "\t\tON ir.IncidentTypeID = it.IncidentTypeID\n",
    "WHERE\n",
    "\tir.IncidentDate BETWEEN '2019-08-01' AND '2019-10-31'\n",
    "GROUP BY\n",
    "it.IncidentType;"
   ]
  },
  {
   "cell_type": "markdown",
   "metadata": {},
   "source": [
    "# Statistical aggregate functions\n",
    " "
   ]
  },
  {
   "cell_type": "code",
   "execution_count": null,
   "metadata": {},
   "outputs": [],
   "source": [
    "# Fill in the missing function names\n",
    "SELECT\n",
    "\tit.IncidentType,\n",
    "\tAVG(ir.NumberOfIncidents) AS MeanNumberOfIncidents,\n",
    "\tAVG(CAST(ir.NumberOfIncidents AS DECIMAL(4,2))) AS MeanNumberOfIncidents,\n",
    "\tSTDEV(ir.NumberOfIncidents) AS NumberOfIncidentsStandardDeviation,\n",
    "\tVAR(ir.NumberOfIncidents) AS NumberOfIncidentsVariance,\n",
    "\tCOUNT(1) AS NumberOfRows\n",
    "FROM dbo.IncidentRollup ir\n",
    "\tINNER JOIN dbo.IncidentType it\n",
    "\t\tON ir.IncidentTypeID = it.IncidentTypeID\n",
    "\tINNER JOIN dbo.Calendar c\n",
    "\t\tON ir.IncidentDate = c.Date\n",
    "WHERE\n",
    "\tc.CalendarQuarter = 2\n",
    "\tAND c.CalendarYear = 2020\n",
    "GROUP BY\n",
    "it.IncidentType;"
   ]
  },
  {
   "cell_type": "code",
   "execution_count": null,
   "metadata": {},
   "outputs": [],
   "source": [
    "SELECT DISTINCT\n",
    "\tit.IncidentType,\n",
    "\tAVG(CAST(ir.NumberOfIncidents AS DECIMAL(4,2)))\n",
    "\t    OVER(PARTITION BY it.IncidentType) AS MeanNumberOfIncidents,\n",
    "    # Fill in the missing value\n",
    "\tPERCENTILE_CONT(0.5)\n",
    "    \t# Inside our group, order by number of incidents DESC\n",
    "    \tWITHIN GROUP (ORDER BY ir.NumberOfIncidents DESC)\n",
    "        # Do this for each IncidentType value\n",
    "        OVER (PARTITION BY it.IncidentType) AS MedianNumberOfIncidents,\n",
    "\tCOUNT(1) OVER (PARTITION BY it.IncidentType) AS NumberOfRows\n",
    "FROM dbo.IncidentRollup ir\n",
    "\tINNER JOIN dbo.IncidentType it\n",
    "\t\tON ir.IncidentTypeID = it.IncidentTypeID\n",
    "\tINNER JOIN dbo.Calendar c\n",
    "\t\tON ir.IncidentDate = c.Date\n",
    "WHERE\n",
    "\tc.CalendarQuarter = 2\n",
    "\tAND c.CalendarYear = 2020;"
   ]
  },
  {
   "cell_type": "markdown",
   "metadata": {},
   "source": [
    "# Downsampling and upsampling data\n"
   ]
  },
  {
   "cell_type": "code",
   "execution_count": null,
   "metadata": {},
   "outputs": [],
   "source": [
    "SELECT\n",
    "\t# Downsample to a daily grain\n",
    "    # Cast CustomerVisitStart as a date\n",
    "\tCAST(dsv.CustomerVisitStart AS DATE) AS Day,\n",
    "\tSUM(dsv.AmenityUseInMinutes) AS AmenityUseInMinutes,\n",
    "\tCOUNT(1) AS NumberOfAttendees\n",
    "FROM dbo.DaySpaVisit dsv\n",
    "WHERE\n",
    "\tdsv.CustomerVisitStart >= '2020-06-11'\n",
    "\tAND dsv.CustomerVisitStart < '2020-06-23'\n",
    "GROUP BY\n",
    "\t# When we use aggregation functions like SUM or COUNT,\n",
    "    # we need to GROUP BY the non-aggregated columns\n",
    "\tCAST(dsv.CustomerVisitStart AS DATE)\n",
    "ORDER BY\n",
    "\tDay;"
   ]
  },
  {
   "cell_type": "code",
   "execution_count": null,
   "metadata": {},
   "outputs": [],
   "source": [
    "SELECT\n",
    "\t# Downsample to a weekly grain\n",
    "\tDATEPART(WEEK, dsv.CustomerVisitStart) AS Week,\n",
    "\tSUM(dsv.AmenityUseInMinutes) AS AmenityUseInMinutes,\n",
    "\t# Find the customer with the largest customer ID for that week\n",
    "\tMAX(dsv.CustomerID) AS HighestCustomerID,\n",
    "\tCOUNT(1) AS NumberOfAttendees\n",
    "FROM dbo.DaySpaVisit dsv\n",
    "WHERE\n",
    "\tdsv.CustomerVisitStart >= '2020-01-01'\n",
    "\tAND dsv.CustomerVisitStart < '2021-01-01'\n",
    "GROUP BY\n",
    "\t# When we use aggregation functions like SUM or COUNT,\n",
    "    # we need to GROUP BY the non-aggregated columns\n",
    "\tDATEPART(WEEK, dsv.CustomerVisitStart)\n",
    "ORDER BY\n",
    "\tWeek;"
   ]
  },
  {
   "cell_type": "code",
   "execution_count": null,
   "metadata": {},
   "outputs": [],
   "source": [
    "SELECT\n",
    "\t# Determine the week of the calendar year\n",
    "\tc.CalendarWeekOfYear,\n",
    "\t# Determine the earliest DATE in this group\n",
    "    #This is NOT the DayOfWeek column\n",
    "\tMIN(c.Date) AS FirstDateOfWeek,\n",
    "\tISNULL(SUM(dsv.AmenityUseInMinutes), 0) AS AmenityUseInMinutes,\n",
    "\tISNULL(MAX(dsv.CustomerID), 0) AS HighestCustomerID,\n",
    "\tCOUNT(dsv.CustomerID) AS NumberOfAttendees\n",
    "FROM dbo.Calendar c\n",
    "\tLEFT OUTER JOIN dbo.DaySpaVisit dsv\n",
    "\t\t# Connect dbo.Calendar with dbo.DaySpaVisit\n",
    "\t\t# To join on CustomerVisitStart, we need to turn \n",
    "        # it into a DATE type\n",
    "\t\tON c.Date = CAST(dsv.CustomerVisitStart AS Date)\n",
    "WHERE\n",
    "\tc.CalendarYear = 2020\n",
    "GROUP BY\n",
    "\t# When we use aggregation functions like SUM or COUNT,\n",
    "    # we need to GROUP BY the non-aggregated columns\n",
    "\tc.CalendarWeekOfYear\n",
    "ORDER BY\n",
    "\tc.CalendarWeekOfYear;"
   ]
  },
  {
   "cell_type": "markdown",
   "metadata": {},
   "source": [
    "# Grouping by ROLLUP, CUBE, and GROUPING SETS\n",
    " "
   ]
  },
  {
   "cell_type": "code",
   "execution_count": null,
   "metadata": {},
   "outputs": [],
   "source": [
    "# The ROLLUP operator works best when your non-measure attributes are hierarchical. \n",
    "# Otherwise, you may end up weird aggregation levels which don't make intuitive sense."
   ]
  },
  {
   "cell_type": "code",
   "execution_count": null,
   "metadata": {},
   "outputs": [],
   "source": [
    "SELECT\n",
    "\tc.CalendarYear,\n",
    "\tc.CalendarQuarterName,\n",
    "\tc.CalendarMonth,\n",
    "    # Include the sum of incidents by day over each range\n",
    "\tSUM(ir.NumberOfIncidents) AS NumberOfIncidents\n",
    "FROM dbo.IncidentRollup ir\n",
    "\tINNER JOIN dbo.Calendar c\n",
    "\t\tON ir.IncidentDate = c.Date\n",
    "WHERE\n",
    "\tir.IncidentTypeID = 2\n",
    "GROUP BY\n",
    "\t# GROUP BY needs to include all non-aggregated columns\n",
    "\tc.CalendarYear,\n",
    "\tc.CalendarQuarterName,\n",
    "\tc.CalendarMonth\n",
    "# Fill in your grouping operator\n",
    "WITH ROLLUP\n",
    "ORDER BY\n",
    "\tc.CalendarYear,\n",
    "\tc.CalendarQuarterName,\n",
    "\tc.CalendarMonth;"
   ]
  },
  {
   "cell_type": "code",
   "execution_count": null,
   "metadata": {},
   "outputs": [],
   "source": [
    "SELECT\n",
    "\t# Use the ORDER BY clause as a guide for these columns\n",
    "    # Don't forget that comma after the third column if you\n",
    "    # copy from the ORDER BY clause!\n",
    "\tir.IncidentTypeID,\n",
    "\tc.CalendarQuarterName,\n",
    "\tc.WeekOfMonth,\n",
    "\tSUM(ir.NumberOfIncidents) AS NumberOfIncidents\n",
    "FROM dbo.IncidentRollup ir\n",
    "\tINNER JOIN dbo.Calendar c\n",
    "\t\tON ir.IncidentDate = c.Date\n",
    "WHERE\n",
    "\tir.IncidentTypeID IN (3, 4)\n",
    "GROUP BY\n",
    "\t# GROUP BY should include all non-aggregated columns\n",
    "\tir.IncidentTypeID,\n",
    "\tc.CalendarQuarterName,\n",
    "\tc.WeekOfMonth\n",
    "# Fill in your grouping operator\n",
    "WITH CUBE\n",
    "ORDER BY\n",
    "\tir.IncidentTypeID,\n",
    "\tc.CalendarQuarterName,\n",
    "\tc.WeekOfMonth;"
   ]
  },
  {
   "cell_type": "code",
   "execution_count": null,
   "metadata": {},
   "outputs": [],
   "source": [
    "SELECT\n",
    "\tc.CalendarYear,\n",
    "\tc.CalendarQuarterName,\n",
    "\tc.CalendarMonth,\n",
    "\tSUM(ir.NumberOfIncidents) AS NumberOfIncidents\n",
    "FROM dbo.IncidentRollup ir\n",
    "\tINNER JOIN dbo.Calendar c\n",
    "\t\tON ir.IncidentDate = c.Date\n",
    "WHERE\n",
    "\tir.IncidentTypeID = 2\n",
    "# Fill in your grouping operator here\n",
    "GROUP BY GROUPING SETS\n",
    "(\n",
    "  \t# Group in hierarchical order:  calendar year,\n",
    "    # calendar quarter name, calendar month\n",
    "\t(c.CalendarYear, c.CalendarQuarterName, c.CalendarMonth),\n",
    "  \t# Group by calendar year\n",
    "\t(c.CalendarYear),\n",
    "    # This remains blank; it gives us the grand total\n",
    "\t()\n",
    ")\n",
    "ORDER BY\n",
    "\tc.CalendarYear,\n",
    "\tc.CalendarQuarterName,\n",
    "\tc.CalendarMonth;"
   ]
  },
  {
   "cell_type": "code",
   "execution_count": null,
   "metadata": {},
   "outputs": [],
   "source": [
    "SELECT\n",
    "\tc.CalendarYear,\n",
    "\tc.CalendarMonth,\n",
    "\tc.DayOfWeek,\n",
    "\tc.IsWeekend,\n",
    "\tSUM(ir.NumberOfIncidents) AS NumberOfIncidents\n",
    "FROM dbo.IncidentRollup ir\n",
    "\tINNER JOIN dbo.Calendar c\n",
    "\t\tON ir.IncidentDate = c.Date\n",
    "GROUP BY GROUPING SETS\n",
    "(\n",
    "    # Each non-aggregated column from above should appear once\n",
    "  \t# Calendar year and month\n",
    "\t(c.CalendarYear, c.CalendarMonth),\n",
    "  \t# Day of week\n",
    "\t(c.DayOfWeek),\n",
    "  \t# Is weekend or not\n",
    "\t(c.IsWeekend),\n",
    "    # This remains empty; it gives us the grand total\n",
    "\t()\n",
    ")\n",
    "ORDER BY\n",
    "\tc.CalendarYear,\n",
    "\tc.CalendarMonth,\n",
    "\tc.DayOfWeek,\n",
    "\tc.IsWeekend;"
   ]
  },
  {
   "cell_type": "markdown",
   "metadata": {},
   "source": [
    "# Using aggregation functions over windows\n",
    " "
   ]
  },
  {
   "cell_type": "code",
   "execution_count": null,
   "metadata": {},
   "outputs": [],
   "source": [
    "# rownum makes it row 1-10 no interruptions: 1,2,3,4,5\n",
    "# rank shows ties: 1,2,2,2,5,\n",
    "# dense_rank 1,2,2,2,3,4"
   ]
  },
  {
   "cell_type": "code",
   "execution_count": null,
   "metadata": {},
   "outputs": [],
   "source": [
    "SELECT\n",
    "\tir.IncidentDate,\n",
    "\tir.NumberOfIncidents,\n",
    "    # Fill in each window function and ordering\n",
    "\t# Note that all of these are in descending order!\n",
    "\tROW_NUMBER() OVER (ORDER BY ir.NumberOfIncidents DESC) AS rownum,\n",
    "\tRANK() OVER (ORDER BY ir.NumberOfIncidents DESC) AS rk,\n",
    "\tDENSE_RANK() OVER (ORDER BY ir.NumberOfIncidents DESC) AS dr\n",
    "FROM dbo.IncidentRollup ir\n",
    "WHERE\n",
    "\tir.IncidentTypeID = 3\n",
    "\tAND ir.NumberOfIncidents >= 8\n",
    "ORDER BY\n",
    "\tir.NumberOfIncidents DESC;"
   ]
  },
  {
   "cell_type": "code",
   "execution_count": null,
   "metadata": {},
   "outputs": [],
   "source": [
    "SELECT\n",
    "\tir.IncidentDate,\n",
    "\tir.NumberOfIncidents,\n",
    "    # Fill in the correct aggregate functions\n",
    "    # You do not need to fill in the OVER clause\n",
    "\tSUM(ir.NumberOfIncidents) OVER () AS SumOfIncidents,\n",
    "\tMIN(ir.NumberOfIncidents) OVER () AS LowestNumberOfIncidents,\n",
    "\tMAX(ir.NumberOfIncidents) OVER () AS HighestNumberOfIncidents,\n",
    "\tCOUNT(ir.NumberOfIncidents) OVER () AS CountOfIncidents\n",
    "FROM dbo.IncidentRollup ir\n",
    "WHERE\n",
    "\tir.IncidentDate BETWEEN '2019-07-01' AND '2019-07-31'\n",
    "AND ir.IncidentTypeID = 3;"
   ]
  },
  {
   "cell_type": "markdown",
   "metadata": {},
   "source": [
    "# Calculating running totals and moving averages\n",
    " "
   ]
  },
  {
   "cell_type": "code",
   "execution_count": null,
   "metadata": {},
   "outputs": [],
   "source": [
    "# calucate running total\n",
    "\n",
    "SELECT\n",
    "\tir.IncidentDate,\n",
    "\tir.IncidentTypeID,\n",
    "\tir.NumberOfIncidents,\n",
    "    # Get the total number of incidents\n",
    "\tSUM(ir.NumberOfIncidents) OVER (\n",
    "      \t# Do this for each incident type ID\n",
    "\t\tPARTITION BY ir.IncidentTypeID\n",
    "      \t# Sort by the incident date\n",
    "\t\tORDER BY ir.IncidentDate\n",
    "\t) AS NumberOfIncidents\n",
    "FROM dbo.IncidentRollup ir\n",
    "\tINNER JOIN dbo.Calendar c\n",
    "\t\tON ir.IncidentDate = c.Date\n",
    "WHERE\n",
    "\tc.CalendarYear = 2019\n",
    "\tAND c.CalendarMonth = 7\n",
    "\tAND ir.IncidentTypeID IN (1, 2)\n",
    "ORDER BY\n",
    "\tir.IncidentTypeID,\n",
    "\tir.IncidentDate;"
   ]
  },
  {
   "cell_type": "code",
   "execution_count": null,
   "metadata": {},
   "outputs": [],
   "source": [
    "SELECT\n",
    "    ir.IncidentDate,\n",
    "    ir.IncidentTypeID,\n",
    "    SUM(ir.NumberOfIncidents) OVER (\n",
    "        PARTITION BY ir.IncidentTypeID\n",
    "        ORDER BY ir.IncidentDate\n",
    "        << WINDOW FRAME >>\n",
    "    ) AS NumberOfIncidents\n",
    "FROM dbo.IncidentRollup ir; "
   ]
  },
  {
   "cell_type": "code",
   "execution_count": null,
   "metadata": {},
   "outputs": [],
   "source": [
    "# creating a column with a moving average\n",
    "\n",
    "SELECT\n",
    "\tir.IncidentDate,\n",
    "\tir.IncidentTypeID,\n",
    "\tir.NumberOfIncidents,\n",
    "    # Fill in the correct window function\n",
    "\tAVG(ir.NumberOfIncidents) OVER (\n",
    "\t\tPARTITION BY ir.IncidentTypeID\n",
    "\t\tORDER BY ir.IncidentDate\n",
    "      \t# Fill in the three parts of the window frame\n",
    "\t\tROWS BETWEEN 6 PRECEDING AND CURRENT ROW\n",
    "\t) AS MeanNumberOfIncidents\n",
    "FROM dbo.IncidentRollup ir\n",
    "\tINNER JOIN dbo.Calendar c\n",
    "\t\tON ir.IncidentDate = c.Date\n",
    "WHERE\n",
    "\tc.CalendarYear = 2019\n",
    "\tAND c.CalendarMonth IN (7, 8)\n",
    "\tAND ir.IncidentTypeID = 1\n",
    "ORDER BY\n",
    "\tir.IncidentTypeID,\n",
    "\tir.IncidentDate;"
   ]
  },
  {
   "cell_type": "markdown",
   "metadata": {},
   "source": [
    "# Working with LAG() and LEAD()\n",
    " "
   ]
  },
  {
   "cell_type": "code",
   "execution_count": null,
   "metadata": {},
   "outputs": [],
   "source": [
    "SELECT\n",
    "\tir.IncidentDate,\n",
    "\tir.IncidentTypeID,\n",
    "    # Get the prior day's number of incidents\n",
    "\tLAG(ir.NumberOfIncidents, 1) OVER (\n",
    "      \t# Partition by incident type ID\n",
    "\t\tPARTITION BY ir.IncidentTypeID\n",
    "      \t# Order by incident date\n",
    "\t\tORDER BY ir.IncidentDate\n",
    "\t) AS PriorDayIncidents,\n",
    "\tir.NumberOfIncidents AS CurrentDayIncidents,\n",
    "    # Get the next day's number of incidents\n",
    "\tLEAD(ir.NumberOfIncidents, 1) OVER (\n",
    "      \t# Partition by incident type ID\n",
    "\t\tPARTITION BY ir.IncidentTypeID\n",
    "      \t# Order by incident date\n",
    "\t\tORDER BY ir.IncidentDate\n",
    "\t) AS NextDayIncidents\n",
    "FROM dbo.IncidentRollup ir\n",
    "WHERE\n",
    "\tir.IncidentDate >= '2019-07-02'\n",
    "\tAND ir.IncidentDate <= '2019-07-31'\n",
    "\tAND ir.IncidentTypeID IN (1, 2)\n",
    "ORDER BY\n",
    "\tir.IncidentTypeID,\n",
    "\tir.IncidentDate;"
   ]
  },
  {
   "cell_type": "code",
   "execution_count": null,
   "metadata": {},
   "outputs": [],
   "source": [
    "SELECT\n",
    "\tir.IncidentDate,\n",
    "\tir.IncidentTypeID,\n",
    "    # Fill in two periods ago\n",
    "\tLAG(ir.NumberOfIncidents, 2) OVER (\n",
    "\t\tPARTITION BY ir.IncidentTypeID\n",
    "\t\tORDER BY ir.IncidentDate\n",
    "\t) AS Trailing2Day,\n",
    "    # Fill in one period ago\n",
    "\tLAG(ir.NumberOfIncidents, 1) OVER (\n",
    "\t\tPARTITION BY ir.IncidentTypeID\n",
    "\t\tORDER BY ir.IncidentDate\n",
    "\t) AS Trailing1Day,\n",
    "\tir.NumberOfIncidents AS CurrentDayIncidents,\n",
    "    # Fill in next period\n",
    "\tLEAD(ir.NumberOfIncidents, 1) OVER (\n",
    "\t\tPARTITION BY ir.IncidentTypeID\n",
    "\t\tORDER BY ir.IncidentDate\n",
    "\t) AS NextDay\n",
    "FROM dbo.IncidentRollup ir\n",
    "WHERE\n",
    "\tir.IncidentDate >= '2019-07-01'\n",
    "\tAND ir.IncidentDate <= '2019-07-31'\n",
    "\tAND ir.IncidentTypeID IN (1, 2)\n",
    "ORDER BY\n",
    "\tir.IncidentTypeID,\n",
    "\tir.IncidentDate;"
   ]
  },
  {
   "cell_type": "code",
   "execution_count": null,
   "metadata": {},
   "outputs": [],
   "source": [
    "SELECT\n",
    "\tir.IncidentDate,\n",
    "\tir.IncidentTypeID,\n",
    "    # Fill in the days since last incident\n",
    "\tDATEDIFF(DAY, LAG(ir.IncidentDate, 1) OVER (\n",
    "\t\tPARTITION BY ir.IncidentTypeID\n",
    "\t\tORDER BY ir.IncidentDate\n",
    "\t), ir.IncidentDate) AS DaysSinceLastIncident,\n",
    "    # Fill in the days until next incident\n",
    "\tDATEDIFF(DAY, ir.IncidentDate, LEAD(ir.IncidentDate, 1) OVER (\n",
    "\t\tPARTITION BY ir.IncidentTypeID\n",
    "\t\tORDER BY ir.IncidentDate\n",
    "\t)) AS DaysUntilNextIncident\n",
    "FROM dbo.IncidentRollup ir\n",
    "WHERE\n",
    "\tir.IncidentDate >= '2019-07-02'\n",
    "\tAND ir.IncidentDate <= '2019-07-31'\n",
    "\tAND ir.IncidentTypeID IN (1, 2)\n",
    "ORDER BY\n",
    "\tir.IncidentTypeID,\n",
    "\tir.IncidentDate;"
   ]
  },
  {
   "cell_type": "markdown",
   "metadata": {},
   "source": [
    "# Finding maximum levels of overlap\n"
   ]
  },
  {
   "cell_type": "code",
   "execution_count": null,
   "metadata": {},
   "outputs": [],
   "source": [
    "# This section focuses on entrances:  CustomerVisitStart\n",
    "SELECT\n",
    "\tdsv.CustomerID,\n",
    "\tdsv.CustomerVisitStart AS TimeUTC,\n",
    "\t1 AS EntryCount,\n",
    "    # We want to know each customer's entrance stream\n",
    "    # Get a unique, ascending row number\n",
    "\tROW_NUMBER() OVER (\n",
    "      # Break this out by customer ID\n",
    "      PARTITION BY dsv.CustomerID\n",
    "      # Ordered by the customer visit start date\n",
    "      ORDER BY dsv.CustomerVisitStart\n",
    "    ) AS StartOrdinal\n",
    "FROM dbo.DaySpaVisit dsv\n",
    "UNION ALL\n",
    "# This section focuses on departures:  CustomerVisitEnd\n",
    "SELECT\n",
    "\tdsv.CustomerID,\n",
    "\tdsv.CustomerVisitEnd AS TimeUTC,\n",
    "\t-1 AS EntryCount,\n",
    "\tNULL AS StartOrdinal\n",
    "FROM dbo.DaySpaVisit dsv"
   ]
  },
  {
   "cell_type": "code",
   "execution_count": null,
   "metadata": {},
   "outputs": [],
   "source": [
    "SELECT s.*,\n",
    "    # Build a stream of all check-in and check-out events\n",
    "\tROW_NUMBER() OVER (\n",
    "      # Break this out by customer ID\n",
    "      PARTITION BY s.CustomerID\n",
    "      # Order by event time and then the start ordinal\n",
    "      # value (in case of exact time matches)\n",
    "      ORDER BY s.TimeUTC, s.StartOrdinal\n",
    "    ) AS StartOrEndOrdinal\n",
    "FROM #StartStopPoints s;"
   ]
  },
  {
   "cell_type": "code",
   "execution_count": null,
   "metadata": {},
   "outputs": [],
   "source": [
    "SELECT\n",
    "\ts.CustomerID,\n",
    "\tMAX(2 * s.StartOrdinal - s.StartOrEndOrdinal) AS MaxConcurrentCustomerVisits\n",
    "FROM #StartStopOrder s\n",
    "WHERE s.EntryCount = 1\n",
    "GROUP BY s.CustomerID\n",
    "# The difference between 2 * start ordinal and the start/end\n",
    "# ordinal represents the number of concurrent visits\n",
    "HAVING MAX(2 * s.StartOrdinal - s.StartOrEndOrdinal) > 2\n",
    "# Sort by the largest number of max concurrent customer visits\n",
    "ORDER BY MaxConcurrentCustomerVisits DESC;"
   ]
  },
  {
   "cell_type": "code",
   "execution_count": null,
   "metadata": {},
   "outputs": [],
   "source": []
  }
 ],
 "metadata": {
  "kernelspec": {
   "display_name": "Python 3",
   "language": "python",
   "name": "python3"
  },
  "language_info": {
   "codemirror_mode": {
    "name": "ipython",
    "version": 3
   },
   "file_extension": ".py",
   "mimetype": "text/x-python",
   "name": "python",
   "nbconvert_exporter": "python",
   "pygments_lexer": "ipython3",
   "version": "3.8.5"
  }
 },
 "nbformat": 4,
 "nbformat_minor": 4
}
